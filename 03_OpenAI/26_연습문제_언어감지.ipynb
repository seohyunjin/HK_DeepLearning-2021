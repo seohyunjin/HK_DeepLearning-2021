{
 "cells": [
  {
   "cell_type": "markdown",
   "metadata": {},
   "source": [
    "# 카카오 언어감지 "
   ]
  },
  {
   "cell_type": "code",
   "execution_count": 14,
   "metadata": {},
   "outputs": [],
   "source": [
    "import requests\r\n",
    "from urllib.parse import quote # url encode\r\n",
    "\r\n",
    "with open('kakaoapikey.txt', mode= 'r') as key_file:\r\n",
    "    kakao_key = key_file.read()"
   ]
  },
  {
   "cell_type": "code",
   "execution_count": 56,
   "metadata": {},
   "outputs": [],
   "source": [
    "# 입력할 내용\r\n",
    "text_list = ['Tout est possible']"
   ]
  },
  {
   "cell_type": "code",
   "execution_count": 57,
   "metadata": {},
   "outputs": [],
   "source": [
    "detect_url = \"https://dapi.kakao.com/v3/translation/language/detect\" \r\n",
    "header={\"Authorization\": f\"KakaoAK {kakao_key}\"}\r\n",
    "\r\n",
    "for i in range(len(text_list)) :\r\n",
    "      queryString = {\r\n",
    "      \"query\" : text_list[i]\r\n",
    "  }"
   ]
  },
  {
   "cell_type": "code",
   "execution_count": 58,
   "metadata": {},
   "outputs": [],
   "source": [
    "r = (requests.get(detect_url, headers=header, params= queryString) ).json()"
   ]
  },
  {
   "cell_type": "code",
   "execution_count": 59,
   "metadata": {},
   "outputs": [
    {
     "data": {
      "text/plain": [
       "{'language_info': [{'code': 'fr', 'name': 'French', 'confidence': 0.99982},\n",
       "  {'code': 'en', 'name': 'English', 'confidence': 0.00018}]}"
      ]
     },
     "execution_count": 59,
     "metadata": {},
     "output_type": "execute_result"
    }
   ],
   "source": [
    "r"
   ]
  },
  {
   "cell_type": "code",
   "execution_count": 60,
   "metadata": {},
   "outputs": [
    {
     "name": "stdout",
     "output_type": "stream",
     "text": [
      "해당언어는 0.99982 확률로 French 입니다.\n"
     ]
    }
   ],
   "source": [
    "print(f'해당언어는 {r[\"language_info\"][0][\"confidence\"]} 확률로 {r[\"language_info\"][0][\"name\"]} 입니다.')"
   ]
  },
  {
   "cell_type": "markdown",
   "metadata": {},
   "source": [
    "## 번역 :외국어를 감지하여 한국어로 번역"
   ]
  },
  {
   "cell_type": "code",
   "execution_count": 61,
   "metadata": {},
   "outputs": [],
   "source": [
    "src = r[\"language_info\"][0]['code']"
   ]
  },
  {
   "cell_type": "code",
   "execution_count": 62,
   "metadata": {},
   "outputs": [],
   "source": [
    "# 외국어 -> 한국어 \r\n",
    "def generate_url(text, src):\r\n",
    "    trans_url = \"https://dapi.kakao.com/v2/translation/translate\" \r\n",
    "    url = f'{trans_url}?src_lang={src}&target_lang=kr&query={quote(text)}'\r\n",
    "    return url"
   ]
  },
  {
   "cell_type": "code",
   "execution_count": 63,
   "metadata": {},
   "outputs": [
    {
     "name": "stdout",
     "output_type": "stream",
     "text": [
      "모든 것이 가능하다\n"
     ]
    }
   ],
   "source": [
    "result = requests.get( generate_url(text_list[0], src),\r\n",
    "            headers={\"Authorization\": f\"KakaoAK {kakao_key}\"}).json()\r\n",
    "translated_text_list = result['translated_text'][0][0]\r\n",
    "\r\n",
    "print(translated_text_list)"
   ]
  }
 ],
 "metadata": {
  "interpreter": {
   "hash": "8c1eae21719a0790335dcb83aad72b63b602cfe5cdb2bda0f60bc11d4f154e4b"
  },
  "kernelspec": {
   "display_name": "Python 3.8.5 64-bit ('base': conda)",
   "name": "python3"
  },
  "language_info": {
   "codemirror_mode": {
    "name": "ipython",
    "version": 3
   },
   "file_extension": ".py",
   "mimetype": "text/x-python",
   "name": "python",
   "nbconvert_exporter": "python",
   "pygments_lexer": "ipython3",
   "version": "3.8.5"
  },
  "orig_nbformat": 4
 },
 "nbformat": 4,
 "nbformat_minor": 2
}