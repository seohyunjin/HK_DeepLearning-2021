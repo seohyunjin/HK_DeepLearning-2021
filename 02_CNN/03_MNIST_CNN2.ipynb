{
  "cells": [
    {
      "cell_type": "markdown",
      "metadata": {
        "id": "3b4bnHEVp2e6"
      },
      "source": [
        "# MNIST 손글씨 - CNN 2"
      ]
    },
    {
      "cell_type": "markdown",
      "metadata": {},
      "source": [
        "###  0.9768999814987183\r\n",
        "- 2 Conv2D layers\r\n",
        "- 1 MaxPooling2D layer\r\n",
        "- 1 Fully Connected Network layer\r\n",
        "- 1 Output layer"
      ]
    },
    {
      "cell_type": "code",
      "execution_count": 1,
      "metadata": {
        "id": "RBblWh2jn7u-"
      },
      "outputs": [],
      "source": [
        "import numpy as np\n",
        "import pandas as pd\n",
        "import tensorflow as tf\n",
        "seed = 2021\n",
        "np.random.seed(seed)\n",
        "tf.random.set_seed(seed)"
      ]
    },
    {
      "cell_type": "markdown",
      "metadata": {
        "id": "n66Jkb-2p8s1"
      },
      "source": [
        "## 1. 데이터 전처리"
      ]
    },
    {
      "cell_type": "code",
      "execution_count": 2,
      "metadata": {
        "colab": {
          "base_uri": "https://localhost:8080/"
        },
        "id": "qhgfF--7oEWO",
        "outputId": "f057f0ea-a50b-4cf6-eed8-0376e0fd451c"
      },
      "outputs": [
        {
          "name": "stdout",
          "output_type": "stream",
          "text": [
            "Downloading data from https://storage.googleapis.com/tensorflow/tf-keras-datasets/mnist.npz\n",
            "11493376/11490434 [==============================] - 0s 0us/step\n"
          ]
        },
        {
          "data": {
            "text/plain": [
              "((60000, 28, 28), (60000,), (10000, 28, 28), (10000,))"
            ]
          },
          "execution_count": 2,
          "metadata": {
            "tags": []
          },
          "output_type": "execute_result"
        }
      ],
      "source": [
        "from tensorflow.keras.datasets import mnist\n",
        "(X_train, y_train), (X_test, y_test) = mnist.load_data()\n",
        "\n",
        "X_train.shape, y_train.shape, X_test.shape, y_test.shape "
      ]
    },
    {
      "cell_type": "code",
      "execution_count": 3,
      "metadata": {
        "id": "0efH4qe3oFl1"
      },
      "outputs": [],
      "source": [
        "# 0과 1 사이 값으로 정규화\n",
        "X_train = X_train / 255.0\n",
        "X_test = X_test /255.0"
      ]
    },
    {
      "cell_type": "code",
      "execution_count": 4,
      "metadata": {
        "id": "myN_unZ-oGxk"
      },
      "outputs": [],
      "source": [
        "# 0과 1 사이 값으로 정규화\n",
        "X_train = X_train / 255.0\n",
        "X_test = X_test /255.0"
      ]
    },
    {
      "cell_type": "code",
      "execution_count": 5,
      "metadata": {
        "colab": {
          "base_uri": "https://localhost:8080/"
        },
        "id": "L9ZVDzJvoIik",
        "outputId": "9eaae325-b5db-4cef-c890-ac9b06dc50a8"
      },
      "outputs": [
        {
          "data": {
            "text/plain": [
              "((60000, 28, 28, 1), (10000, 28, 28, 1))"
            ]
          },
          "execution_count": 5,
          "metadata": {
            "tags": []
          },
          "output_type": "execute_result"
        }
      ],
      "source": [
        "# 3차원의 데이터를 4차원으로( 데이터는 2차원을 3차원으로)\n",
        "# X가 28*28이므로 1차원으로 바꾸어 주어야한다. 28*28=784 \n",
        "X_train = X_train.reshape(-1,28,28, 1)\n",
        "X_test = X_test.reshape(-1,28, 28, 1)\n",
        "X_train.shape, X_test.shape"
      ]
    },
    {
      "cell_type": "code",
      "execution_count": 6,
      "metadata": {
        "colab": {
          "base_uri": "https://localhost:8080/"
        },
        "id": "MTHuDvmFoVTj",
        "outputId": "1c75ce40-97b8-4379-db09-4a675e14bccb"
      },
      "outputs": [
        {
          "data": {
            "text/plain": [
              "array([0., 0., 0., 0., 0., 1., 0., 0., 0., 0.], dtype=float32)"
            ]
          },
          "execution_count": 6,
          "metadata": {
            "tags": []
          },
          "output_type": "execute_result"
        }
      ],
      "source": [
        "# One hot encoding\n",
        "from tensorflow.keras.utils import to_categorical\n",
        "Y_train = to_categorical(y_train)\n",
        "Y_test = to_categorical(y_test)\n",
        "Y_train[0]"
      ]
    },
    {
      "cell_type": "markdown",
      "metadata": {
        "id": "P49FgSFOqBw9"
      },
      "source": [
        "## 2. 모델 정의, 설정, 실행, 평가"
      ]
    },
    {
      "cell_type": "code",
      "execution_count": 8,
      "metadata": {
        "id": "MARkVGJboo52"
      },
      "outputs": [],
      "source": [
        "from tensorflow.keras.models import Sequential\n",
        "from tensorflow.keras.layers import Dense, Conv2D, Flatten, MaxPooling2D # 모델 정의시\n",
        "from tensorflow.keras.callbacks import ModelCheckpoint, EarlyStopping  # 모델 학습시, collback"
      ]
    },
    {
      "cell_type": "code",
      "execution_count": 10,
      "metadata": {
        "colab": {
          "base_uri": "https://localhost:8080/"
        },
        "id": "xM66xfZ5orvW",
        "outputId": "8af8b11a-c409-407b-c527-871f35257f6d"
      },
      "outputs": [
        {
          "name": "stdout",
          "output_type": "stream",
          "text": [
            "Model: \"sequential\"\n",
            "_________________________________________________________________\n",
            "Layer (type)                 Output Shape              Param #   \n",
            "=================================================================\n",
            "conv2d (Conv2D)              (None, 26, 26, 32)        320       \n",
            "_________________________________________________________________\n",
            "conv2d_1 (Conv2D)            (None, 24, 24, 64)        18496     \n",
            "_________________________________________________________________\n",
            "max_pooling2d (MaxPooling2D) (None, 12, 12, 64)        0         \n",
            "_________________________________________________________________\n",
            "flatten (Flatten)            (None, 9216)              0         \n",
            "_________________________________________________________________\n",
            "dense (Dense)                (None, 512)               4719104   \n",
            "_________________________________________________________________\n",
            "dense_1 (Dense)              (None, 10)                5130      \n",
            "=================================================================\n",
            "Total params: 4,743,050\n",
            "Trainable params: 4,743,050\n",
            "Non-trainable params: 0\n",
            "_________________________________________________________________\n"
          ]
        }
      ],
      "source": [
        "model = Sequential([\n",
        "    Conv2D(32,(3,3), input_shape = (28,28,1), activation='relu'),\n",
        "    Conv2D(64,(3,3), activation='relu'),\n",
        "    MaxPooling2D(pool_size =2),\n",
        "    Flatten(),                           # 2차원을 1차원으로 변환\n",
        "    Dense(512, activation='relu'),\n",
        "    Dense(10, activation='softmax') \n",
        "     \n",
        "])\n",
        "model.summary()"
      ]
    },
    {
      "cell_type": "code",
      "execution_count": 11,
      "metadata": {
        "id": "esahPj2xotsw"
      },
      "outputs": [],
      "source": [
        "model.compile(\n",
        "    optimizer='adam', loss='categorical_crossentropy', metrics=['accuracy']\n",
        ")"
      ]
    },
    {
      "cell_type": "code",
      "execution_count": 12,
      "metadata": {
        "id": "9HhSJNFmovEY"
      },
      "outputs": [],
      "source": [
        "# 모델 최적화를 위한 설정\r\n",
        "modelpath = 'model/best_mnist_cnn_2.h5'\r\n",
        "checkpoint = ModelCheckpoint(modelpath, verbose=1, save_best_only=True)  #callbacks 설정\r\n",
        "early_stopping = EarlyStopping(patience=10)#callbacks 설정"
      ]
    },
    {
      "cell_type": "code",
      "execution_count": 13,
      "metadata": {
        "colab": {
          "base_uri": "https://localhost:8080/"
        },
        "id": "GYsM0Jj4owgY",
        "outputId": "f2520089-6af7-4eed-875c-fd37108c9ed9"
      },
      "outputs": [
        {
          "name": "stdout",
          "output_type": "stream",
          "text": [
            "\n",
            "Epoch 00001: val_loss improved from inf to 0.32408, saving model to model/best_mnist_cnn1.h5\n",
            "\n",
            "Epoch 00002: val_loss improved from 0.32408 to 0.23348, saving model to model/best_mnist_cnn1.h5\n",
            "\n",
            "Epoch 00003: val_loss improved from 0.23348 to 0.19077, saving model to model/best_mnist_cnn1.h5\n",
            "\n",
            "Epoch 00004: val_loss improved from 0.19077 to 0.15285, saving model to model/best_mnist_cnn1.h5\n",
            "\n",
            "Epoch 00005: val_loss improved from 0.15285 to 0.13670, saving model to model/best_mnist_cnn1.h5\n",
            "\n",
            "Epoch 00006: val_loss improved from 0.13670 to 0.12963, saving model to model/best_mnist_cnn1.h5\n",
            "\n",
            "Epoch 00007: val_loss improved from 0.12963 to 0.11683, saving model to model/best_mnist_cnn1.h5\n",
            "\n",
            "Epoch 00008: val_loss improved from 0.11683 to 0.11366, saving model to model/best_mnist_cnn1.h5\n",
            "\n",
            "Epoch 00009: val_loss improved from 0.11366 to 0.10281, saving model to model/best_mnist_cnn1.h5\n",
            "\n",
            "Epoch 00010: val_loss did not improve from 0.10281\n",
            "\n",
            "Epoch 00011: val_loss did not improve from 0.10281\n",
            "\n",
            "Epoch 00012: val_loss improved from 0.10281 to 0.09755, saving model to model/best_mnist_cnn1.h5\n",
            "\n",
            "Epoch 00013: val_loss did not improve from 0.09755\n",
            "\n",
            "Epoch 00014: val_loss improved from 0.09755 to 0.09613, saving model to model/best_mnist_cnn1.h5\n",
            "\n",
            "Epoch 00015: val_loss did not improve from 0.09613\n",
            "\n",
            "Epoch 00016: val_loss improved from 0.09613 to 0.09315, saving model to model/best_mnist_cnn1.h5\n",
            "\n",
            "Epoch 00017: val_loss did not improve from 0.09315\n",
            "\n",
            "Epoch 00018: val_loss did not improve from 0.09315\n",
            "\n",
            "Epoch 00019: val_loss did not improve from 0.09315\n",
            "\n",
            "Epoch 00020: val_loss did not improve from 0.09315\n",
            "\n",
            "Epoch 00021: val_loss did not improve from 0.09315\n",
            "\n",
            "Epoch 00022: val_loss did not improve from 0.09315\n",
            "\n",
            "Epoch 00023: val_loss did not improve from 0.09315\n",
            "\n",
            "Epoch 00024: val_loss did not improve from 0.09315\n",
            "\n",
            "Epoch 00025: val_loss did not improve from 0.09315\n",
            "\n",
            "Epoch 00026: val_loss did not improve from 0.09315\n"
          ]
        }
      ],
      "source": [
        "# 모델 학습\n",
        "history = model.fit(\n",
        "    X_train, Y_train, validation_split=0.2,\n",
        "    epochs=50, batch_size=200, verbose=0,\n",
        "    callbacks=[checkpoint, early_stopping]\n",
        ")"
      ]
    },
    {
      "cell_type": "code",
      "execution_count": 14,
      "metadata": {
        "colab": {
          "base_uri": "https://localhost:8080/"
        },
        "id": "eH2UNyAPpUn0",
        "outputId": "8339cb03-c3c5-46ec-c18f-10f77a659703"
      },
      "outputs": [
        {
          "name": "stdout",
          "output_type": "stream",
          "text": [
            "313/313 [==============================] - 1s 3ms/step - loss: 0.0849 - accuracy: 0.9769\n"
          ]
        },
        {
          "data": {
            "text/plain": [
              "[0.0848802849650383, 0.9768999814987183]"
            ]
          },
          "execution_count": 14,
          "metadata": {
            "tags": []
          },
          "output_type": "execute_result"
        }
      ],
      "source": [
        "from tensorflow.keras.models import load_model\n",
        "best_model = load_model(modelpath)\n",
        "best_model.evaluate(X_test, Y_test)"
      ]
    }
  ],
  "metadata": {
    "accelerator": "GPU",
    "colab": {
      "collapsed_sections": [],
      "name": "MNIST_CNN.ipynb",
      "provenance": []
    },
    "interpreter": {
      "hash": "8c1eae21719a0790335dcb83aad72b63b602cfe5cdb2bda0f60bc11d4f154e4b"
    },
    "kernelspec": {
      "display_name": "Python 3.8.5 64-bit ('base': conda)",
      "name": "python3"
    },
    "language_info": {
      "name": "python",
      "version": ""
    }
  },
  "nbformat": 4,
  "nbformat_minor": 0
}