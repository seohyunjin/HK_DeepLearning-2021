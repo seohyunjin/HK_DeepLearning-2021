{
  "cells": [
    {
      "cell_type": "markdown",
      "metadata": {
        "colab_type": "text",
        "id": "view-in-github"
      },
      "source": [
        "<a href=\"https://colab.research.google.com/github/seohyunjin/HK_DeepLearning-2021/blob/main/MNIST_CNN1.ipynb\" target=\"_parent\"><img src=\"https://colab.research.google.com/assets/colab-badge.svg\" alt=\"Open In Colab\"/></a>"
      ]
    },
    {
      "cell_type": "markdown",
      "metadata": {
        "id": "3b4bnHEVp2e6"
      },
      "source": [
        "# MNIST 손글씨 - CNN 1"
      ]
    },
    {
      "cell_type": "markdown",
      "metadata": {},
      "source": [
        "### 0.9789000153541565\r\n",
        "- 2 Conv2d layers\r\n",
        "- 1 Fully Connected Network layer\r\n",
        "- 1 Output layer"
      ]
    },
    {
      "cell_type": "code",
      "execution_count": 1,
      "metadata": {
        "id": "RBblWh2jn7u-"
      },
      "outputs": [],
      "source": [
        "import numpy as np\n",
        "import pandas as pd\n",
        "import tensorflow as tf\n",
        "seed = 2021\n",
        "np.random.seed(seed)\n",
        "tf.random.set_seed(seed)"
      ]
    },
    {
      "cell_type": "markdown",
      "metadata": {
        "id": "n66Jkb-2p8s1"
      },
      "source": [
        "## 1. 데이터 전처리"
      ]
    },
    {
      "cell_type": "code",
      "execution_count": 2,
      "metadata": {
        "colab": {
          "base_uri": "https://localhost:8080/"
        },
        "id": "qhgfF--7oEWO",
        "outputId": "962669a7-4d0b-4c8c-a7ac-8f0728997a24"
      },
      "outputs": [
        {
          "name": "stdout",
          "output_type": "stream",
          "text": [
            "Downloading data from https://storage.googleapis.com/tensorflow/tf-keras-datasets/mnist.npz\n",
            "11493376/11490434 [==============================] - 0s 0us/step\n"
          ]
        },
        {
          "data": {
            "text/plain": [
              "((60000, 28, 28), (60000,), (10000, 28, 28), (10000,))"
            ]
          },
          "execution_count": 2,
          "metadata": {
            "tags": []
          },
          "output_type": "execute_result"
        }
      ],
      "source": [
        "from tensorflow.keras.datasets import mnist\n",
        "(X_train, y_train), (X_test, y_test) = mnist.load_data()\n",
        "\n",
        "X_train.shape, y_train.shape, X_test.shape, y_test.shape "
      ]
    },
    {
      "cell_type": "code",
      "execution_count": 3,
      "metadata": {
        "id": "0efH4qe3oFl1"
      },
      "outputs": [],
      "source": [
        "# 0과 1 사이 값으로 정규화\n",
        "X_train = X_train / 255.0\n",
        "X_test = X_test /255.0"
      ]
    },
    {
      "cell_type": "code",
      "execution_count": 4,
      "metadata": {
        "id": "myN_unZ-oGxk"
      },
      "outputs": [],
      "source": [
        "# 0과 1 사이 값으로 정규화\n",
        "X_train = X_train / 255.0\n",
        "X_test = X_test /255.0"
      ]
    },
    {
      "cell_type": "code",
      "execution_count": 5,
      "metadata": {
        "colab": {
          "base_uri": "https://localhost:8080/"
        },
        "id": "L9ZVDzJvoIik",
        "outputId": "47c93398-deb3-43ba-dcca-b81ae7b9617a"
      },
      "outputs": [
        {
          "data": {
            "text/plain": [
              "((60000, 28, 28, 1), (10000, 28, 28, 1))"
            ]
          },
          "execution_count": 5,
          "metadata": {
            "tags": []
          },
          "output_type": "execute_result"
        }
      ],
      "source": [
        "# 3차원의 데이터를 4차원으로( 데이터는 2차원을 3차원으로)\n",
        "# X가 28*28이므로 1차원으로 바꾸어 주어야한다. 28*28=784 \n",
        "X_train = X_train.reshape(-1,28,28, 1)\n",
        "X_test = X_test.reshape(-1,28, 28, 1)\n",
        "X_train.shape, X_test.shape"
      ]
    },
    {
      "cell_type": "code",
      "execution_count": 6,
      "metadata": {
        "colab": {
          "base_uri": "https://localhost:8080/"
        },
        "id": "MTHuDvmFoVTj",
        "outputId": "26e63025-f003-4fc8-d84d-85c4892ddbc0"
      },
      "outputs": [
        {
          "data": {
            "text/plain": [
              "array([0., 0., 0., 0., 0., 1., 0., 0., 0., 0.], dtype=float32)"
            ]
          },
          "execution_count": 6,
          "metadata": {
            "tags": []
          },
          "output_type": "execute_result"
        }
      ],
      "source": [
        "# One hot encoding\n",
        "from tensorflow.keras.utils import to_categorical\n",
        "Y_train = to_categorical(y_train)\n",
        "Y_test = to_categorical(y_test)\n",
        "Y_train[0]"
      ]
    },
    {
      "cell_type": "markdown",
      "metadata": {
        "id": "P49FgSFOqBw9"
      },
      "source": [
        "## 2. 모델 정의, 설정, 실행, 평가"
      ]
    },
    {
      "cell_type": "code",
      "execution_count": 7,
      "metadata": {
        "id": "MARkVGJboo52"
      },
      "outputs": [],
      "source": [
        "from tensorflow.keras.models import Sequential\n",
        "from tensorflow.keras.layers import Dense, Conv2D, Flatten # 모델 정의시\n",
        "from tensorflow.keras.callbacks import ModelCheckpoint, EarlyStopping  # 모델 학습시, collback"
      ]
    },
    {
      "cell_type": "code",
      "execution_count": 8,
      "metadata": {
        "colab": {
          "base_uri": "https://localhost:8080/"
        },
        "id": "xM66xfZ5orvW",
        "outputId": "2a4ee52f-7fad-4cd4-c0a2-d6336238720e"
      },
      "outputs": [
        {
          "name": "stdout",
          "output_type": "stream",
          "text": [
            "Model: \"sequential\"\n",
            "_________________________________________________________________\n",
            "Layer (type)                 Output Shape              Param #   \n",
            "=================================================================\n",
            "conv2d (Conv2D)              (None, 26, 26, 32)        320       \n",
            "_________________________________________________________________\n",
            "conv2d_1 (Conv2D)            (None, 24, 24, 64)        18496     \n",
            "_________________________________________________________________\n",
            "flatten (Flatten)            (None, 36864)             0         \n",
            "_________________________________________________________________\n",
            "dense (Dense)                (None, 512)               18874880  \n",
            "_________________________________________________________________\n",
            "dense_1 (Dense)              (None, 10)                5130      \n",
            "=================================================================\n",
            "Total params: 18,898,826\n",
            "Trainable params: 18,898,826\n",
            "Non-trainable params: 0\n",
            "_________________________________________________________________\n"
          ]
        }
      ],
      "source": [
        "model = Sequential([\n",
        "    Conv2D(32,(3,3), input_shape = (28,28,1), activation='relu'),\n",
        "    Conv2D(64,(3,3), activation='relu'),\n",
        "    Flatten(),                           # 2차원을 1차원으로 변환\n",
        "    Dense(512, activation='relu'),\n",
        "    Dense(10, activation='softmax') \n",
        "     \n",
        "])\n",
        "model.summary()"
      ]
    },
    {
      "cell_type": "code",
      "execution_count": 9,
      "metadata": {
        "id": "esahPj2xotsw"
      },
      "outputs": [],
      "source": [
        "model.compile(\n",
        "    optimizer='adam', loss='categorical_crossentropy', metrics=['accuracy']\n",
        ")"
      ]
    },
    {
      "cell_type": "code",
      "execution_count": 10,
      "metadata": {
        "id": "9HhSJNFmovEY"
      },
      "outputs": [],
      "source": [
        "# 모델 최적화를 위한 설정\r\n",
        "modelpath = 'model/best_mnist_cnn_1.h5'\r\n",
        "checkpoint = ModelCheckpoint(modelpath, verbose=1, save_best_only=True)  #callbacks 설정\r\n",
        "early_stopping = EarlyStopping(patience=10)#callbacks 설정"
      ]
    },
    {
      "cell_type": "code",
      "execution_count": 11,
      "metadata": {
        "colab": {
          "base_uri": "https://localhost:8080/"
        },
        "id": "GYsM0Jj4owgY",
        "outputId": "6aca8ac4-fe3c-4cdf-94bc-5490cf3129fd"
      },
      "outputs": [
        {
          "name": "stdout",
          "output_type": "stream",
          "text": [
            "\n",
            "Epoch 00001: val_loss improved from inf to 0.29120, saving model to model/best_mnist_cnn1.h5\n",
            "\n",
            "Epoch 00002: val_loss improved from 0.29120 to 0.18805, saving model to model/best_mnist_cnn1.h5\n",
            "\n",
            "Epoch 00003: val_loss improved from 0.18805 to 0.15430, saving model to model/best_mnist_cnn1.h5\n",
            "\n",
            "Epoch 00004: val_loss improved from 0.15430 to 0.12324, saving model to model/best_mnist_cnn1.h5\n",
            "\n",
            "Epoch 00005: val_loss improved from 0.12324 to 0.10656, saving model to model/best_mnist_cnn1.h5\n",
            "\n",
            "Epoch 00006: val_loss improved from 0.10656 to 0.10281, saving model to model/best_mnist_cnn1.h5\n",
            "\n",
            "Epoch 00007: val_loss improved from 0.10281 to 0.09611, saving model to model/best_mnist_cnn1.h5\n",
            "\n",
            "Epoch 00008: val_loss improved from 0.09611 to 0.09079, saving model to model/best_mnist_cnn1.h5\n",
            "\n",
            "Epoch 00009: val_loss improved from 0.09079 to 0.08706, saving model to model/best_mnist_cnn1.h5\n",
            "\n",
            "Epoch 00010: val_loss did not improve from 0.08706\n",
            "\n",
            "Epoch 00011: val_loss improved from 0.08706 to 0.08089, saving model to model/best_mnist_cnn1.h5\n",
            "\n",
            "Epoch 00012: val_loss improved from 0.08089 to 0.08011, saving model to model/best_mnist_cnn1.h5\n",
            "\n",
            "Epoch 00013: val_loss did not improve from 0.08011\n",
            "\n",
            "Epoch 00014: val_loss did not improve from 0.08011\n",
            "\n",
            "Epoch 00015: val_loss did not improve from 0.08011\n",
            "\n",
            "Epoch 00016: val_loss did not improve from 0.08011\n",
            "\n",
            "Epoch 00017: val_loss did not improve from 0.08011\n",
            "\n",
            "Epoch 00018: val_loss did not improve from 0.08011\n",
            "\n",
            "Epoch 00019: val_loss did not improve from 0.08011\n",
            "\n",
            "Epoch 00020: val_loss did not improve from 0.08011\n",
            "\n",
            "Epoch 00021: val_loss did not improve from 0.08011\n",
            "\n",
            "Epoch 00022: val_loss did not improve from 0.08011\n"
          ]
        }
      ],
      "source": [
        "# 모델 학습\n",
        "history = model.fit(\n",
        "    X_train, Y_train, validation_split=0.2,\n",
        "    epochs=50, batch_size=200, verbose=0,\n",
        "    callbacks=[checkpoint, early_stopping]\n",
        ")"
      ]
    },
    {
      "cell_type": "code",
      "execution_count": 12,
      "metadata": {
        "colab": {
          "base_uri": "https://localhost:8080/"
        },
        "id": "eH2UNyAPpUn0",
        "outputId": "d7233dd9-8cad-46f6-8d9f-c7e9fdaf1632"
      },
      "outputs": [
        {
          "name": "stdout",
          "output_type": "stream",
          "text": [
            "313/313 [==============================] - 1s 3ms/step - loss: 0.0687 - accuracy: 0.9789\n"
          ]
        },
        {
          "data": {
            "text/plain": [
              "[0.06872055679559708, 0.9789000153541565]"
            ]
          },
          "execution_count": 12,
          "metadata": {
            "tags": []
          },
          "output_type": "execute_result"
        }
      ],
      "source": [
        "from tensorflow.keras.models import load_model\n",
        "best_model = load_model(modelpath)\n",
        "best_model.evaluate(X_test, Y_test)"
      ]
    }
  ],
  "metadata": {
    "accelerator": "GPU",
    "colab": {
      "authorship_tag": "ABX9TyPf5s3bjQ5wJTimk+fbKX4Z",
      "collapsed_sections": [],
      "include_colab_link": true,
      "name": "MNIST_CNN.ipynb",
      "provenance": []
    },
    "kernelspec": {
      "display_name": "Python 3",
      "name": "python3"
    },
    "language_info": {
      "name": "python"
    }
  },
  "nbformat": 4,
  "nbformat_minor": 0
}