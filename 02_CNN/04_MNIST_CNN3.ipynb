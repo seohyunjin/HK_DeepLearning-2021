{
  "nbformat": 4,
  "nbformat_minor": 0,
  "metadata": {
    "colab": {
      "name": "MNIST_CNN.ipynb",
      "provenance": [],
      "collapsed_sections": []
    },
    "kernelspec": {
      "name": "python3",
      "display_name": "Python 3"
    },
    "language_info": {
      "name": "python"
    },
    "accelerator": "GPU"
  },
  "cells": [
    {
      "cell_type": "markdown",
      "metadata": {
        "id": "3b4bnHEVp2e6"
      },
      "source": [
        "# MNIST 손글씨 - CNN 3"
      ]
    },
    {
      "cell_type": "markdown",
      "metadata": {
        "id": "NiyZGbVCvOnC"
      },
      "source": [
        "- 2 Conv2D layers\n",
        "- 1 MaxPooling2D layer\n",
        "- 1 Dropout(0.25) layer\n",
        "- 1 Fully Connected Network(512) layer\n",
        "- 1 Dropout(0.5) layer\n",
        "- 1 Output layer"
      ]
    },
    {
      "cell_type": "code",
      "metadata": {
        "id": "RBblWh2jn7u-"
      },
      "source": [
        "import numpy as np\n",
        "import pandas as pd\n",
        "import tensorflow as tf\n",
        "seed = 2021\n",
        "np.random.seed(seed)\n",
        "tf.random.set_seed(seed)"
      ],
      "execution_count": 4,
      "outputs": []
    },
    {
      "cell_type": "markdown",
      "metadata": {
        "id": "n66Jkb-2p8s1"
      },
      "source": [
        "## 1. 데이터 전처리"
      ]
    },
    {
      "cell_type": "code",
      "metadata": {
        "colab": {
          "base_uri": "https://localhost:8080/"
        },
        "id": "qhgfF--7oEWO",
        "outputId": "68ecc678-2168-482c-efba-24285d3ffb21"
      },
      "source": [
        "from tensorflow.keras.datasets import mnist\n",
        "(X_train, y_train), (X_test, y_test) = mnist.load_data()\n",
        "\n",
        "X_train.shape, y_train.shape, X_test.shape, y_test.shape "
      ],
      "execution_count": 5,
      "outputs": [
        {
          "output_type": "stream",
          "text": [
            "Downloading data from https://storage.googleapis.com/tensorflow/tf-keras-datasets/mnist.npz\n",
            "11493376/11490434 [==============================] - 0s 0us/step\n"
          ],
          "name": "stdout"
        },
        {
          "output_type": "execute_result",
          "data": {
            "text/plain": [
              "((60000, 28, 28), (60000,), (10000, 28, 28), (10000,))"
            ]
          },
          "metadata": {
            "tags": []
          },
          "execution_count": 5
        }
      ]
    },
    {
      "cell_type": "code",
      "metadata": {
        "id": "0efH4qe3oFl1"
      },
      "source": [
        "# 0과 1 사이 값으로 정규화\n",
        "X_train = X_train / 255.0\n",
        "X_test = X_test /255.0"
      ],
      "execution_count": 6,
      "outputs": []
    },
    {
      "cell_type": "code",
      "metadata": {
        "id": "myN_unZ-oGxk"
      },
      "source": [
        "# 0과 1 사이 값으로 정규화\n",
        "X_train = X_train / 255.0\n",
        "X_test = X_test /255.0"
      ],
      "execution_count": 7,
      "outputs": []
    },
    {
      "cell_type": "code",
      "metadata": {
        "colab": {
          "base_uri": "https://localhost:8080/"
        },
        "id": "L9ZVDzJvoIik",
        "outputId": "ffc120af-5196-4ba7-ed5b-10d7fe1e58f5"
      },
      "source": [
        "# 3차원의 데이터를 4차원으로( 데이터는 2차원을 3차원으로)\n",
        "# X가 28*28이므로 1차원으로 바꾸어 주어야한다. 28*28=784 \n",
        "X_train = X_train.reshape(-1,28,28, 1)\n",
        "X_test = X_test.reshape(-1,28, 28, 1)\n",
        "X_train.shape, X_test.shape"
      ],
      "execution_count": 8,
      "outputs": [
        {
          "output_type": "execute_result",
          "data": {
            "text/plain": [
              "((60000, 28, 28, 1), (10000, 28, 28, 1))"
            ]
          },
          "metadata": {
            "tags": []
          },
          "execution_count": 8
        }
      ]
    },
    {
      "cell_type": "code",
      "metadata": {
        "colab": {
          "base_uri": "https://localhost:8080/"
        },
        "id": "MTHuDvmFoVTj",
        "outputId": "0267e5e9-19b6-4340-c847-52467b4d13be"
      },
      "source": [
        "# One hot encoding\n",
        "from tensorflow.keras.utils import to_categorical\n",
        "Y_train = to_categorical(y_train)\n",
        "Y_test = to_categorical(y_test)\n",
        "Y_train[0]"
      ],
      "execution_count": 9,
      "outputs": [
        {
          "output_type": "execute_result",
          "data": {
            "text/plain": [
              "array([0., 0., 0., 0., 0., 1., 0., 0., 0., 0.], dtype=float32)"
            ]
          },
          "metadata": {
            "tags": []
          },
          "execution_count": 9
        }
      ]
    },
    {
      "cell_type": "markdown",
      "metadata": {
        "id": "P49FgSFOqBw9"
      },
      "source": [
        "## 2. 모델 정의, 설정, 실행, 평가"
      ]
    },
    {
      "cell_type": "code",
      "metadata": {
        "id": "MARkVGJboo52"
      },
      "source": [
        "from tensorflow.keras.models import Sequential\n",
        "from tensorflow.keras.layers import Dense, Conv2D, Flatten\n",
        "from tensorflow.keras.layers import MaxPooling2D , Dropout  # 모델 정의시\n",
        "from tensorflow.keras.callbacks import ModelCheckpoint, EarlyStopping  # 모델 학습시, collback"
      ],
      "execution_count": 10,
      "outputs": []
    },
    {
      "cell_type": "code",
      "metadata": {
        "colab": {
          "base_uri": "https://localhost:8080/"
        },
        "id": "xM66xfZ5orvW",
        "outputId": "8b506e5f-dbe9-4967-abdf-5de1f66d0705"
      },
      "source": [
        "model = Sequential([\n",
        "    Conv2D(32,(3,3), input_shape = (28,28,1), activation='relu'),\n",
        "    Conv2D(64,(3,3), activation='relu'),\n",
        "    MaxPooling2D(pool_size =2),\n",
        "    Dropout(0.25),\n",
        "    Flatten(),                           # 2차원을 1차원으로 변환\n",
        "    Dense(512, activation='relu'),\n",
        "    Dropout(0.5),\n",
        "    Dense(10, activation='softmax') \n",
        "     \n",
        "])\n",
        "model.summary()"
      ],
      "execution_count": 11,
      "outputs": [
        {
          "output_type": "stream",
          "text": [
            "Model: \"sequential\"\n",
            "_________________________________________________________________\n",
            "Layer (type)                 Output Shape              Param #   \n",
            "=================================================================\n",
            "conv2d (Conv2D)              (None, 26, 26, 32)        320       \n",
            "_________________________________________________________________\n",
            "conv2d_1 (Conv2D)            (None, 24, 24, 64)        18496     \n",
            "_________________________________________________________________\n",
            "max_pooling2d (MaxPooling2D) (None, 12, 12, 64)        0         \n",
            "_________________________________________________________________\n",
            "dropout (Dropout)            (None, 12, 12, 64)        0         \n",
            "_________________________________________________________________\n",
            "flatten (Flatten)            (None, 9216)              0         \n",
            "_________________________________________________________________\n",
            "dense (Dense)                (None, 512)               4719104   \n",
            "_________________________________________________________________\n",
            "dropout_1 (Dropout)          (None, 512)               0         \n",
            "_________________________________________________________________\n",
            "dense_1 (Dense)              (None, 10)                5130      \n",
            "=================================================================\n",
            "Total params: 4,743,050\n",
            "Trainable params: 4,743,050\n",
            "Non-trainable params: 0\n",
            "_________________________________________________________________\n"
          ],
          "name": "stdout"
        }
      ]
    },
    {
      "cell_type": "code",
      "metadata": {
        "id": "esahPj2xotsw"
      },
      "source": [
        "model.compile(\n",
        "    optimizer='adam', loss='categorical_crossentropy', metrics=['accuracy']\n",
        ")"
      ],
      "execution_count": 12,
      "outputs": []
    },
    {
      "cell_type": "code",
      "metadata": {
        "id": "9HhSJNFmovEY"
      },
      "source": [
        "# 모델 최적화를 위한 설정\n",
        "modelpath = 'best_mnist_cnn_3.h5'\n",
        "checkpoint = ModelCheckpoint(modelpath, verbose=1, save_best_only=True)  #callbacks 설정\n",
        "early_stopping = EarlyStopping(patience=5) #callbacks 설정"
      ],
      "execution_count": 13,
      "outputs": []
    },
    {
      "cell_type": "code",
      "metadata": {
        "colab": {
          "base_uri": "https://localhost:8080/"
        },
        "id": "GYsM0Jj4owgY",
        "outputId": "e38eeadd-d940-4acf-87de-219e5c5b4a22"
      },
      "source": [
        "# 모델 학습\n",
        "history = model.fit(\n",
        "    X_train, Y_train, validation_split=0.2,\n",
        "    epochs=50, batch_size=200, verbose=0,\n",
        "    callbacks=[checkpoint, early_stopping]\n",
        ")"
      ],
      "execution_count": 14,
      "outputs": [
        {
          "output_type": "stream",
          "text": [
            "\n",
            "Epoch 00001: val_loss improved from inf to 0.32266, saving model to best_mnist_cnn_3.h5\n",
            "\n",
            "Epoch 00002: val_loss improved from 0.32266 to 0.22224, saving model to best_mnist_cnn_3.h5\n",
            "\n",
            "Epoch 00003: val_loss improved from 0.22224 to 0.18329, saving model to best_mnist_cnn_3.h5\n",
            "\n",
            "Epoch 00004: val_loss improved from 0.18329 to 0.15699, saving model to best_mnist_cnn_3.h5\n",
            "\n",
            "Epoch 00005: val_loss improved from 0.15699 to 0.14308, saving model to best_mnist_cnn_3.h5\n",
            "\n",
            "Epoch 00006: val_loss improved from 0.14308 to 0.14060, saving model to best_mnist_cnn_3.h5\n",
            "\n",
            "Epoch 00007: val_loss improved from 0.14060 to 0.11957, saving model to best_mnist_cnn_3.h5\n",
            "\n",
            "Epoch 00008: val_loss improved from 0.11957 to 0.11148, saving model to best_mnist_cnn_3.h5\n",
            "\n",
            "Epoch 00009: val_loss improved from 0.11148 to 0.10286, saving model to best_mnist_cnn_3.h5\n",
            "\n",
            "Epoch 00010: val_loss improved from 0.10286 to 0.10061, saving model to best_mnist_cnn_3.h5\n",
            "\n",
            "Epoch 00011: val_loss did not improve from 0.10061\n",
            "\n",
            "Epoch 00012: val_loss improved from 0.10061 to 0.09979, saving model to best_mnist_cnn_3.h5\n",
            "\n",
            "Epoch 00013: val_loss improved from 0.09979 to 0.09804, saving model to best_mnist_cnn_3.h5\n",
            "\n",
            "Epoch 00014: val_loss improved from 0.09804 to 0.08906, saving model to best_mnist_cnn_3.h5\n",
            "\n",
            "Epoch 00015: val_loss did not improve from 0.08906\n",
            "\n",
            "Epoch 00016: val_loss improved from 0.08906 to 0.08698, saving model to best_mnist_cnn_3.h5\n",
            "\n",
            "Epoch 00017: val_loss improved from 0.08698 to 0.08385, saving model to best_mnist_cnn_3.h5\n",
            "\n",
            "Epoch 00018: val_loss did not improve from 0.08385\n",
            "\n",
            "Epoch 00019: val_loss improved from 0.08385 to 0.08234, saving model to best_mnist_cnn_3.h5\n",
            "\n",
            "Epoch 00020: val_loss did not improve from 0.08234\n",
            "\n",
            "Epoch 00021: val_loss improved from 0.08234 to 0.08091, saving model to best_mnist_cnn_3.h5\n",
            "\n",
            "Epoch 00022: val_loss did not improve from 0.08091\n",
            "\n",
            "Epoch 00023: val_loss did not improve from 0.08091\n",
            "\n",
            "Epoch 00024: val_loss improved from 0.08091 to 0.07832, saving model to best_mnist_cnn_3.h5\n",
            "\n",
            "Epoch 00025: val_loss improved from 0.07832 to 0.07766, saving model to best_mnist_cnn_3.h5\n",
            "\n",
            "Epoch 00026: val_loss did not improve from 0.07766\n",
            "\n",
            "Epoch 00027: val_loss improved from 0.07766 to 0.07569, saving model to best_mnist_cnn_3.h5\n",
            "\n",
            "Epoch 00028: val_loss improved from 0.07569 to 0.07560, saving model to best_mnist_cnn_3.h5\n",
            "\n",
            "Epoch 00029: val_loss did not improve from 0.07560\n",
            "\n",
            "Epoch 00030: val_loss improved from 0.07560 to 0.07450, saving model to best_mnist_cnn_3.h5\n",
            "\n",
            "Epoch 00031: val_loss did not improve from 0.07450\n",
            "\n",
            "Epoch 00032: val_loss improved from 0.07450 to 0.07278, saving model to best_mnist_cnn_3.h5\n",
            "\n",
            "Epoch 00033: val_loss did not improve from 0.07278\n",
            "\n",
            "Epoch 00034: val_loss improved from 0.07278 to 0.07063, saving model to best_mnist_cnn_3.h5\n",
            "\n",
            "Epoch 00035: val_loss did not improve from 0.07063\n",
            "\n",
            "Epoch 00036: val_loss did not improve from 0.07063\n",
            "\n",
            "Epoch 00037: val_loss improved from 0.07063 to 0.06887, saving model to best_mnist_cnn_3.h5\n",
            "\n",
            "Epoch 00038: val_loss improved from 0.06887 to 0.06807, saving model to best_mnist_cnn_3.h5\n",
            "\n",
            "Epoch 00039: val_loss did not improve from 0.06807\n",
            "\n",
            "Epoch 00040: val_loss did not improve from 0.06807\n",
            "\n",
            "Epoch 00041: val_loss did not improve from 0.06807\n",
            "\n",
            "Epoch 00042: val_loss improved from 0.06807 to 0.06788, saving model to best_mnist_cnn_3.h5\n",
            "\n",
            "Epoch 00043: val_loss improved from 0.06788 to 0.06719, saving model to best_mnist_cnn_3.h5\n",
            "\n",
            "Epoch 00044: val_loss did not improve from 0.06719\n",
            "\n",
            "Epoch 00045: val_loss did not improve from 0.06719\n",
            "\n",
            "Epoch 00046: val_loss improved from 0.06719 to 0.06666, saving model to best_mnist_cnn_3.h5\n",
            "\n",
            "Epoch 00047: val_loss did not improve from 0.06666\n",
            "\n",
            "Epoch 00048: val_loss did not improve from 0.06666\n",
            "\n",
            "Epoch 00049: val_loss improved from 0.06666 to 0.06490, saving model to best_mnist_cnn_3.h5\n",
            "\n",
            "Epoch 00050: val_loss improved from 0.06490 to 0.06439, saving model to best_mnist_cnn_3.h5\n"
          ],
          "name": "stdout"
        }
      ]
    },
    {
      "cell_type": "code",
      "metadata": {
        "colab": {
          "base_uri": "https://localhost:8080/"
        },
        "id": "eH2UNyAPpUn0",
        "outputId": "c7517841-63e7-4c8c-dd0c-f62c3cdb3f9c"
      },
      "source": [
        "from tensorflow.keras.models import load_model\n",
        "best_model = load_model(modelpath)\n",
        "best_model.evaluate(X_test, Y_test)"
      ],
      "execution_count": 15,
      "outputs": [
        {
          "output_type": "stream",
          "text": [
            "313/313 [==============================] - 1s 3ms/step - loss: 0.0586 - accuracy: 0.9833\n"
          ],
          "name": "stdout"
        },
        {
          "output_type": "execute_result",
          "data": {
            "text/plain": [
              "[0.05863473564386368, 0.983299970626831]"
            ]
          },
          "metadata": {
            "tags": []
          },
          "execution_count": 15
        }
      ]
    },
    {
      "cell_type": "markdown",
      "metadata": {
        "id": "QREAmkcltqXd"
      },
      "source": [
        "## 훈련과정 시각화"
      ]
    },
    {
      "cell_type": "code",
      "metadata": {
        "id": "VrumUpqkt-wp"
      },
      "source": [
        "import matplotlib.pyplot as plt\n",
        "%matplotlib inline"
      ],
      "execution_count": 16,
      "outputs": []
    },
    {
      "cell_type": "code",
      "metadata": {
        "id": "Ycng1UWztwHs"
      },
      "source": [
        "y_vloss = history.history['val_loss']\n",
        "y_acc = history.history['accuracy']\n",
        "x_len = np.arange(len(y_acc ))"
      ],
      "execution_count": 17,
      "outputs": []
    },
    {
      "cell_type": "code",
      "metadata": {
        "colab": {
          "base_uri": "https://localhost:8080/",
          "height": 483
        },
        "id": "zz3p2ERBt226",
        "outputId": "b5b386e1-3ed8-4feb-9ad8-8449c4d403e4"
      },
      "source": [
        "plt.figure(figsize=(12,8))\n",
        "plt.plot(x_len, y_acc, 'bo-', markersize=2, label='accuracy')\n",
        "plt.plot(x_len, y_vloss, 'ro-', markersize=2, label='val_loss')\n",
        "plt.legend()\n",
        "plt.show()"
      ],
      "execution_count": 18,
      "outputs": [
        {
          "output_type": "display_data",
          "data": {
            "image/png": "[encoded data removed]",
            "text/plain": [
              "<Figure size 864x576 with 1 Axes>"
            ]
          },
          "metadata": {
            "tags": [],
            "needs_background": "light"
          }
        }
      ]
    }
  ]
}