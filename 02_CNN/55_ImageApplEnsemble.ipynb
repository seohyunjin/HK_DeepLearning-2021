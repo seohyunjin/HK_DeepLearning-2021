{
 "cells": [
  {
   "cell_type": "code",
   "execution_count": 14,
   "metadata": {},
   "outputs": [],
   "source": [
    "import warnings\n",
    "warnings.filterwarnings('ignore')"
   ]
  },
  {
   "source": [
    "# Keras Application 응용\n",
    "- 4가지 모델의 결과를 종합하여 결과 도출 ensemble 열에 추가"
   ],
   "cell_type": "markdown",
   "metadata": {}
  },
  {
   "cell_type": "code",
   "execution_count": 1,
   "metadata": {},
   "outputs": [
    {
     "output_type": "execute_result",
     "data": {
      "text/plain": [
       "['animals\\\\dolphin.jpg',\n",
       " 'animals\\\\eagle.jpg',\n",
       " 'animals\\\\elephant.jpg',\n",
       " 'animals\\\\hawk.jpg',\n",
       " 'animals\\\\lion.jpg',\n",
       " 'animals\\\\panda.jpg',\n",
       " 'animals\\\\penguin.jpg',\n",
       " 'animals\\\\rabbit.jpg',\n",
       " 'animals\\\\shark.jpg',\n",
       " 'animals\\\\sparrow.jpg']"
      ]
     },
     "metadata": {},
     "execution_count": 1
    }
   ],
   "source": [
    "from glob import glob\n",
    "glob('animals/*')"
   ]
  },
  {
   "cell_type": "code",
   "execution_count": 2,
   "metadata": {},
   "outputs": [
    {
     "output_type": "stream",
     "name": "stdout",
     "text": [
      "['dolphin', 'eagle', 'elephant', 'hawk', 'lion', 'panda', 'penguin', 'rabbit', 'shark', 'sparrow']\n"
     ]
    }
   ],
   "source": [
    "#파일명에 해당이름만 가져옴\n",
    "name_list = []\n",
    "for file in glob('animals/*'):\n",
    "    name = file.split('\\\\')[1]\n",
    "    name = name.split('.')[0]\n",
    "    name_list.append(name)\n",
    "print(name_list)"
   ]
  },
  {
   "cell_type": "markdown",
   "metadata": {},
   "source": [
    "## All models and ensemble"
   ]
  },
  {
   "cell_type": "code",
   "execution_count": 10,
   "metadata": {},
   "outputs": [],
   "source": [
    "from tensorflow.keras.applications.vgg16 import VGG16, decode_predictions\n",
    "from tensorflow.keras.applications.vgg19 import VGG19\n",
    "from tensorflow.keras.applications.resnet50 import ResNet50\n",
    "from tensorflow.keras.applications.resnet import ResNet101\n",
    "from tensorflow.keras.applications.resnet import ResNet152\n",
    "\n",
    "import numpy as np \n",
    "from PIL import Image"
   ]
  },
  {
   "cell_type": "code",
   "execution_count": 11,
   "metadata": {},
   "outputs": [
    {
     "output_type": "stream",
     "name": "stdout",
     "text": [
      "Downloading data from https://storage.googleapis.com/tensorflow/keras-applications/resnet/resnet152_weights_tf_dim_ordering_tf_kernels.h5\n",
      "242900992/242900224 [==============================] - 85s 0us/step\n"
     ]
    }
   ],
   "source": [
    "vgg16 = VGG16()\n",
    "vgg19 = VGG19()\n",
    "resnet50 = ResNet50()\n",
    "resnet101 = ResNet101()\n",
    "resnet152 = ResNet152()"
   ]
  },
  {
   "cell_type": "code",
   "execution_count": 15,
   "metadata": {},
   "outputs": [],
   "source": [
    "vgg16_list, vgg19_list, resnet50_list, resnet101_list,resnet152_list = [],[],[],[],[]\n",
    "ensemble = []\n",
    "\n",
    "for file in glob('animals/*'):\n",
    "    img = np.array(Image.open(file).resize((224,224)))\n",
    "    yhat_v16 = vgg16.predict(img.reshape(-1, 224, 224, 3))\n",
    "    yhat_v19 = vgg19.predict(img.reshape(-1, 224, 224, 3))\n",
    "    yhat_r50 = resnet50.predict(img.reshape(-1, 224, 224, 3))\n",
    "    yhat_r101 = resnet101.predict(img.reshape(-1, 224, 224, 3))\n",
    "    yhat_r152 = resnet152.predict(img.reshape(-1, 224, 224, 3))\n",
    "    yhat = ( yhat_v16[0]+yhat_v19[0]+yhat_r50[0]+yhat_r101[0]+yhat_r152[0] )/4.\n",
    "\n",
    "    vgg16_list.append(decode_predictions(yhat_v16)[0][0][1])\n",
    "    vgg19_list.append(decode_predictions(yhat_v19)[0][0][1])\n",
    "    resnet50_list.append(decode_predictions(yhat_r50)[0][0][1])\n",
    "    resnet101_list.append(decode_predictions(yhat_r101)[0][0][1])\n",
    "    resnet152_list.append(decode_predictions(yhat_r152)[0][0][1])\n",
    "    ensemble.append(decode_predictions(yhat.reshape(1,-1))[0][0][1])"
   ]
  },
  {
   "cell_type": "markdown",
   "metadata": {},
   "source": [
    "## 데이터 프레임으로 합치기"
   ]
  },
  {
   "cell_type": "code",
   "execution_count": 16,
   "metadata": {},
   "outputs": [
    {
     "output_type": "execute_result",
     "data": {
      "text/plain": [
       "   Original              VGG16              VGG19           ResNet50  \\\n",
       "0   dolphin           sea_lion             dugong           sea_lion   \n",
       "1     eagle               kite               kite               kite   \n",
       "2  elephant   African_elephant   African_elephant   African_elephant   \n",
       "3      hawk               kite               kite               kite   \n",
       "4      lion         white_wolf         Arctic_fox             kuvasz   \n",
       "5     panda             gibbon        giant_panda              indri   \n",
       "6   penguin       king_penguin       king_penguin       king_penguin   \n",
       "7    rabbit               hare               hare               hare   \n",
       "8     shark  great_white_shark  great_white_shark  great_white_shark   \n",
       "9   sparrow              junco        house_finch          chickadee   \n",
       "\n",
       "           ResNet101          ResNet152           Ensemble  \n",
       "0       king_penguin           sea_lion           sea_lion  \n",
       "1               kite               kite               kite  \n",
       "2   African_elephant   African_elephant   African_elephant  \n",
       "3               kite               kite               kite  \n",
       "4            clumber         white_wolf         Arctic_fox  \n",
       "5        giant_panda        giant_panda        giant_panda  \n",
       "6       king_penguin       king_penguin       king_penguin  \n",
       "7               hare               hare               hare  \n",
       "8  great_white_shark  great_white_shark  great_white_shark  \n",
       "9     indigo_bunting     indigo_bunting          chickadee  "
      ],
      "text/html": "<div>\n<style scoped>\n    .dataframe tbody tr th:only-of-type {\n        vertical-align: middle;\n    }\n\n    .dataframe tbody tr th {\n        vertical-align: top;\n    }\n\n    .dataframe thead th {\n        text-align: right;\n    }\n</style>\n<table border=\"1\" class=\"dataframe\">\n  <thead>\n    <tr style=\"text-align: right;\">\n      <th></th>\n      <th>Original</th>\n      <th>VGG16</th>\n      <th>VGG19</th>\n      <th>ResNet50</th>\n      <th>ResNet101</th>\n      <th>ResNet152</th>\n      <th>Ensemble</th>\n    </tr>\n  </thead>\n  <tbody>\n    <tr>\n      <th>0</th>\n      <td>dolphin</td>\n      <td>sea_lion</td>\n      <td>dugong</td>\n      <td>sea_lion</td>\n      <td>king_penguin</td>\n      <td>sea_lion</td>\n      <td>sea_lion</td>\n    </tr>\n    <tr>\n      <th>1</th>\n      <td>eagle</td>\n      <td>kite</td>\n      <td>kite</td>\n      <td>kite</td>\n      <td>kite</td>\n      <td>kite</td>\n      <td>kite</td>\n    </tr>\n    <tr>\n      <th>2</th>\n      <td>elephant</td>\n      <td>African_elephant</td>\n      <td>African_elephant</td>\n      <td>African_elephant</td>\n      <td>African_elephant</td>\n      <td>African_elephant</td>\n      <td>African_elephant</td>\n    </tr>\n    <tr>\n      <th>3</th>\n      <td>hawk</td>\n      <td>kite</td>\n      <td>kite</td>\n      <td>kite</td>\n      <td>kite</td>\n      <td>kite</td>\n      <td>kite</td>\n    </tr>\n    <tr>\n      <th>4</th>\n      <td>lion</td>\n      <td>white_wolf</td>\n      <td>Arctic_fox</td>\n      <td>kuvasz</td>\n      <td>clumber</td>\n      <td>white_wolf</td>\n      <td>Arctic_fox</td>\n    </tr>\n    <tr>\n      <th>5</th>\n      <td>panda</td>\n      <td>gibbon</td>\n      <td>giant_panda</td>\n      <td>indri</td>\n      <td>giant_panda</td>\n      <td>giant_panda</td>\n      <td>giant_panda</td>\n    </tr>\n    <tr>\n      <th>6</th>\n      <td>penguin</td>\n      <td>king_penguin</td>\n      <td>king_penguin</td>\n      <td>king_penguin</td>\n      <td>king_penguin</td>\n      <td>king_penguin</td>\n      <td>king_penguin</td>\n    </tr>\n    <tr>\n      <th>7</th>\n      <td>rabbit</td>\n      <td>hare</td>\n      <td>hare</td>\n      <td>hare</td>\n      <td>hare</td>\n      <td>hare</td>\n      <td>hare</td>\n    </tr>\n    <tr>\n      <th>8</th>\n      <td>shark</td>\n      <td>great_white_shark</td>\n      <td>great_white_shark</td>\n      <td>great_white_shark</td>\n      <td>great_white_shark</td>\n      <td>great_white_shark</td>\n      <td>great_white_shark</td>\n    </tr>\n    <tr>\n      <th>9</th>\n      <td>sparrow</td>\n      <td>junco</td>\n      <td>house_finch</td>\n      <td>chickadee</td>\n      <td>indigo_bunting</td>\n      <td>indigo_bunting</td>\n      <td>chickadee</td>\n    </tr>\n  </tbody>\n</table>\n</div>"
     },
     "metadata": {},
     "execution_count": 16
    }
   ],
   "source": [
    "import pandas as pd\n",
    "df = pd.DataFrame({\n",
    "    'Original':name_list, 'VGG16':vgg16_list, 'VGG19':vgg19_list,\n",
    "    'ResNet50':resnet50_list, 'ResNet101':resnet101_list, 'ResNet152':resnet152_list,\n",
    "    'Ensemble':ensemble\n",
    "})\n",
    "df"
   ]
  }
 ],
 "metadata": {
  "interpreter": {
   "hash": "62451998a06cf5ba2746f3d8b4c2b71aad3b2e1f1be2af1479ae958b50a1bdcf"
  },
  "kernelspec": {
   "name": "python3",
   "display_name": "Python 3.8.10 64-bit ('pythonHK': conda)"
  },
  "language_info": {
   "codemirror_mode": {
    "name": "ipython",
    "version": 3
   },
   "file_extension": ".py",
   "mimetype": "text/x-python",
   "name": "python",
   "nbconvert_exporter": "python",
   "pygments_lexer": "ipython3",
   "version": "3.8.10"
  },
  "orig_nbformat": 4
 },
 "nbformat": 4,
 "nbformat_minor": 2
}