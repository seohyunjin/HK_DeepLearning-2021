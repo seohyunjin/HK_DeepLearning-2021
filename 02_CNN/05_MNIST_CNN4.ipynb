{
  "cells": [
    {
      "cell_type": "markdown",
      "metadata": {
        "id": "XTQ69bwtq_5Z"
      },
      "source": [
        "# MNIST 손글씨 - CNN 4"
      ]
    },
    {
      "cell_type": "markdown",
      "metadata": {
        "id": "KFmB1g7qrDIf"
      },
      "source": [
        "### 0.9919000267982483\r\n",
        "- 2 Conv2D layers with padding\r\n",
        "- 1 MaxPooling2D layer\r\n",
        "- 1 Dropout(0.25) layer\r\n",
        "- 1 Fully Connected Network(512) layer\r\n",
        "- 1 Dropout(0.5) layer\r\n",
        "- 1 Output layer"
      ]
    },
    {
      "cell_type": "code",
      "execution_count": 1,
      "metadata": {
        "id": "JrGbkb4arG5n"
      },
      "outputs": [],
      "source": [
        "import numpy as np\n",
        "import pandas as pd\n",
        "import tensorflow as tf\n",
        "seed = 2021\n",
        "np.random.seed(seed)\n",
        "tf.random.set_seed(seed)"
      ]
    },
    {
      "cell_type": "markdown",
      "metadata": {
        "id": "For4JET-rIce"
      },
      "source": [
        "## 1. 데이터 전처리"
      ]
    },
    {
      "cell_type": "code",
      "execution_count": 2,
      "metadata": {
        "colab": {
          "base_uri": "https://localhost:8080/"
        },
        "id": "1CCIyjKfrKS-",
        "outputId": "a66e9efb-844c-4fec-dfb6-62e9abd1b3e8"
      },
      "outputs": [
        {
          "name": "stdout",
          "output_type": "stream",
          "text": [
            "Downloading data from https://storage.googleapis.com/tensorflow/tf-keras-datasets/mnist.npz\n",
            "11493376/11490434 [==============================] - 0s 0us/step\n"
          ]
        },
        {
          "data": {
            "text/plain": [
              "((60000, 28, 28), (60000,), (10000, 28, 28), (10000,))"
            ]
          },
          "execution_count": 2,
          "metadata": {
            "tags": []
          },
          "output_type": "execute_result"
        }
      ],
      "source": [
        "from tensorflow.keras.datasets import mnist\n",
        "(X_train, y_train), (X_test, y_test) = mnist.load_data()\n",
        "\n",
        "X_train.shape, y_train.shape, X_test.shape, y_test.shape "
      ]
    },
    {
      "cell_type": "code",
      "execution_count": 3,
      "metadata": {
        "id": "eWTnCvX1rNqf"
      },
      "outputs": [],
      "source": [
        "# 0과 1 사이 값으로 정규화\n",
        "X_train = X_train / 255.0\n",
        "X_test = X_test /255.0"
      ]
    },
    {
      "cell_type": "code",
      "execution_count": 4,
      "metadata": {
        "colab": {
          "base_uri": "https://localhost:8080/"
        },
        "id": "LVDD9K4yrVLZ",
        "outputId": "23d4dfdb-40f3-48a0-af1b-dc62339f2de9"
      },
      "outputs": [
        {
          "data": {
            "text/plain": [
              "((60000, 28, 28, 1), (10000, 28, 28, 1))"
            ]
          },
          "execution_count": 4,
          "metadata": {
            "tags": []
          },
          "output_type": "execute_result"
        }
      ],
      "source": [
        "# 3차원의 데이터를 4차원으로( 데이터는 2차원을 3차원으로)\n",
        "# X가 28*28이므로 1차원으로 바꾸어 주어야한다. 28*28=784 \n",
        "X_train = X_train.reshape(-1,28,28, 1)\n",
        "X_test = X_test.reshape(-1,28, 28, 1)\n",
        "X_train.shape, X_test.shape"
      ]
    },
    {
      "cell_type": "code",
      "execution_count": 5,
      "metadata": {
        "colab": {
          "base_uri": "https://localhost:8080/"
        },
        "id": "BPRxtUyCrWkA",
        "outputId": "60798f8d-706f-4acb-8fad-64f18e43ceac"
      },
      "outputs": [
        {
          "data": {
            "text/plain": [
              "array([0., 0., 0., 0., 0., 1., 0., 0., 0., 0.], dtype=float32)"
            ]
          },
          "execution_count": 5,
          "metadata": {
            "tags": []
          },
          "output_type": "execute_result"
        }
      ],
      "source": [
        "# One hot encoding\n",
        "from tensorflow.keras.utils import to_categorical\n",
        "Y_train = to_categorical(y_train)\n",
        "Y_test = to_categorical(y_test)\n",
        "Y_train[0]"
      ]
    },
    {
      "cell_type": "code",
      "execution_count": 6,
      "metadata": {
        "id": "fy4lpjw7rZLv"
      },
      "outputs": [],
      "source": [
        "from tensorflow.keras.models import Sequential\n",
        "from tensorflow.keras.layers import Dense, Conv2D, Flatten\n",
        "from tensorflow.keras.layers import MaxPooling2D , Dropout  # 모델 정의시\n",
        "from tensorflow.keras.callbacks import ModelCheckpoint, EarlyStopping  # 모델 학습시, collback"
      ]
    },
    {
      "cell_type": "code",
      "execution_count": 7,
      "metadata": {
        "colab": {
          "base_uri": "https://localhost:8080/"
        },
        "id": "9XRqAdvmrecG",
        "outputId": "85010c60-0b2c-440e-c63f-368d991acbc1"
      },
      "outputs": [
        {
          "name": "stdout",
          "output_type": "stream",
          "text": [
            "Model: \"sequential\"\n",
            "_________________________________________________________________\n",
            "Layer (type)                 Output Shape              Param #   \n",
            "=================================================================\n",
            "conv2d (Conv2D)              (None, 28, 28, 32)        320       \n",
            "_________________________________________________________________\n",
            "conv2d_1 (Conv2D)            (None, 28, 28, 64)        18496     \n",
            "_________________________________________________________________\n",
            "max_pooling2d (MaxPooling2D) (None, 14, 14, 64)        0         \n",
            "_________________________________________________________________\n",
            "dropout (Dropout)            (None, 14, 14, 64)        0         \n",
            "_________________________________________________________________\n",
            "flatten (Flatten)            (None, 12544)             0         \n",
            "_________________________________________________________________\n",
            "dense (Dense)                (None, 512)               6423040   \n",
            "_________________________________________________________________\n",
            "dropout_1 (Dropout)          (None, 512)               0         \n",
            "_________________________________________________________________\n",
            "dense_1 (Dense)              (None, 10)                5130      \n",
            "=================================================================\n",
            "Total params: 6,446,986\n",
            "Trainable params: 6,446,986\n",
            "Non-trainable params: 0\n",
            "_________________________________________________________________\n"
          ]
        }
      ],
      "source": [
        "model = Sequential([\n",
        "    Conv2D(32,(3,3), padding = 'same', input_shape = (28,28,1), activation='relu'),\n",
        "    Conv2D(64,(3,3), padding = 'same', activation='relu'),\n",
        "    MaxPooling2D(pool_size =2),\n",
        "    Dropout(0.25),\n",
        "    Flatten(),                           # 2차원을 1차원으로 변환\n",
        "    Dense(512, activation='relu'),\n",
        "    Dropout(0.5),\n",
        "    Dense(10, activation='softmax') \n",
        "     \n",
        "])\n",
        "model.summary()"
      ]
    },
    {
      "cell_type": "code",
      "execution_count": 8,
      "metadata": {
        "id": "vmKjvplUrfyB"
      },
      "outputs": [],
      "source": [
        "model.compile(\n",
        "    optimizer='adam', loss='categorical_crossentropy', metrics=['accuracy']\n",
        ")"
      ]
    },
    {
      "cell_type": "code",
      "execution_count": 9,
      "metadata": {
        "id": "kJPHN20prgqW"
      },
      "outputs": [],
      "source": [
        "# 모델 최적화를 위한 설정\n",
        "modelpath = 'best_mnist_cnn_4.h5'\n",
        "checkpoint = ModelCheckpoint(modelpath, verbose=1, save_best_only=True)  #callbacks 설정\n",
        "early_stopping = EarlyStopping(patience=5) #callbacks 설정"
      ]
    },
    {
      "cell_type": "code",
      "execution_count": 10,
      "metadata": {
        "colab": {
          "base_uri": "https://localhost:8080/"
        },
        "id": "grqYH4mZrh12",
        "outputId": "d91f9178-6482-455a-a698-e4b0915e5029"
      },
      "outputs": [
        {
          "name": "stdout",
          "output_type": "stream",
          "text": [
            "\n",
            "Epoch 00001: val_loss improved from inf to 0.05661, saving model to best_mnist_cnn_4.h5\n",
            "\n",
            "Epoch 00002: val_loss improved from 0.05661 to 0.04723, saving model to best_mnist_cnn_4.h5\n",
            "\n",
            "Epoch 00003: val_loss improved from 0.04723 to 0.03891, saving model to best_mnist_cnn_4.h5\n",
            "\n",
            "Epoch 00004: val_loss improved from 0.03891 to 0.03757, saving model to best_mnist_cnn_4.h5\n",
            "\n",
            "Epoch 00005: val_loss improved from 0.03757 to 0.03535, saving model to best_mnist_cnn_4.h5\n",
            "\n",
            "Epoch 00006: val_loss did not improve from 0.03535\n",
            "\n",
            "Epoch 00007: val_loss improved from 0.03535 to 0.03448, saving model to best_mnist_cnn_4.h5\n",
            "\n",
            "Epoch 00008: val_loss did not improve from 0.03448\n",
            "\n",
            "Epoch 00009: val_loss did not improve from 0.03448\n",
            "\n",
            "Epoch 00010: val_loss did not improve from 0.03448\n",
            "\n",
            "Epoch 00011: val_loss improved from 0.03448 to 0.03421, saving model to best_mnist_cnn_4.h5\n",
            "\n",
            "Epoch 00012: val_loss did not improve from 0.03421\n",
            "\n",
            "Epoch 00013: val_loss did not improve from 0.03421\n",
            "\n",
            "Epoch 00014: val_loss did not improve from 0.03421\n",
            "\n",
            "Epoch 00015: val_loss did not improve from 0.03421\n",
            "\n",
            "Epoch 00016: val_loss did not improve from 0.03421\n"
          ]
        }
      ],
      "source": [
        "# 모델 학습\n",
        "history = model.fit(\n",
        "    X_train, Y_train, validation_split=0.2,\n",
        "    epochs=50, batch_size=200, verbose=0,\n",
        "    callbacks=[checkpoint, early_stopping]\n",
        ")"
      ]
    },
    {
      "cell_type": "code",
      "execution_count": 11,
      "metadata": {
        "colab": {
          "base_uri": "https://localhost:8080/"
        },
        "id": "eSRGQijqrjLw",
        "outputId": "e9ae4b36-5f8f-4714-cd42-dd3399809dc2"
      },
      "outputs": [
        {
          "name": "stdout",
          "output_type": "stream",
          "text": [
            "313/313 [==============================] - 1s 3ms/step - loss: 0.0297 - accuracy: 0.9919\n"
          ]
        },
        {
          "data": {
            "text/plain": [
              "[0.029684796929359436, 0.9919000267982483]"
            ]
          },
          "execution_count": 11,
          "metadata": {
            "tags": []
          },
          "output_type": "execute_result"
        }
      ],
      "source": [
        "from tensorflow.keras.models import load_model\n",
        "best_model = load_model(modelpath)\n",
        "best_model.evaluate(X_test, Y_test)"
      ]
    },
    {
      "cell_type": "markdown",
      "metadata": {
        "id": "1JDBryFSrp_1"
      },
      "source": [
        "## 훈련과정 시각화"
      ]
    },
    {
      "cell_type": "code",
      "execution_count": 12,
      "metadata": {
        "id": "qRM1gR4rrkW2"
      },
      "outputs": [],
      "source": [
        "import matplotlib.pyplot as plt\n",
        "%matplotlib inline"
      ]
    },
    {
      "cell_type": "code",
      "execution_count": 13,
      "metadata": {
        "id": "Ge6zgSW6rlRx"
      },
      "outputs": [],
      "source": [
        "y_vloss = history.history['val_loss']\n",
        "y_acc = history.history['accuracy']\n",
        "x_len = np.arange(len(y_acc ))"
      ]
    },
    {
      "cell_type": "code",
      "execution_count": 14,
      "metadata": {
        "colab": {
          "base_uri": "https://localhost:8080/",
          "height": 483
        },
        "id": "Ap43KWMNrme0",
        "outputId": "83585953-89f1-4810-b7bc-8597290a5211"
      },
      "outputs": [
        {
          "data": {
            "image/png": "[encoded data removed]",
            "text/plain": [
              "<Figure size 864x576 with 1 Axes>"
            ]
          },
          "metadata": {
            "needs_background": "light",
            "tags": []
          },
          "output_type": "display_data"
        }
      ],
      "source": [
        "plt.figure(figsize=(12,8))\n",
        "plt.plot(x_len, y_acc, 'bo-', markersize=2, label='accuracy')\n",
        "plt.plot(x_len, y_vloss, 'ro-', markersize=2, label='val_loss')\n",
        "plt.legend()\n",
        "plt.show()"
      ]
    }
  ],
  "metadata": {
    "accelerator": "GPU",
    "colab": {
      "collapsed_sections": [],
      "name": "Untitled1.ipynb",
      "provenance": []
    },
    "interpreter": {
      "hash": "8c1eae21719a0790335dcb83aad72b63b602cfe5cdb2bda0f60bc11d4f154e4b"
    },
    "kernelspec": {
      "display_name": "Python 3.8.5 64-bit ('base': conda)",
      "name": "python3"
    },
    "language_info": {
      "name": "python",
      "version": ""
    }
  },
  "nbformat": 4,
  "nbformat_minor": 0
}