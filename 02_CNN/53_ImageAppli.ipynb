{
 "cells": [
  {
   "cell_type": "markdown",
   "metadata": {},
   "source": [
    "# Keras Application 응용"
   ]
  },
  {
   "cell_type": "code",
   "execution_count": 3,
   "metadata": {},
   "outputs": [
    {
     "data": {
      "text/plain": [
       "['animals\\\\dolphin.jpg',\n",
       " 'animals\\\\eagle.jpg',\n",
       " 'animals\\\\elephant.jpg',\n",
       " 'animals\\\\hawk.jpg',\n",
       " 'animals\\\\lion.jpg',\n",
       " 'animals\\\\panda.jpg',\n",
       " 'animals\\\\penguin.jpg',\n",
       " 'animals\\\\rabbit.jpg',\n",
       " 'animals\\\\shark.jpg',\n",
       " 'animals\\\\sparrow.jpg']"
      ]
     },
     "execution_count": 3,
     "metadata": {},
     "output_type": "execute_result"
    }
   ],
   "source": [
    "from glob import glob\r\n",
    "glob('animals/*')  # forloop이용가능"
   ]
  },
  {
   "cell_type": "markdown",
   "metadata": {},
   "source": [
    "### quiz ] 동물이름만 뽑아 리스트로 만들기"
   ]
  },
  {
   "cell_type": "code",
   "execution_count": 17,
   "metadata": {},
   "outputs": [
    {
     "data": {
      "text/plain": [
       "['dolphin',\n",
       " 'eagle',\n",
       " 'elephant',\n",
       " 'hawk',\n",
       " 'lion',\n",
       " 'panda',\n",
       " 'penguin',\n",
       " 'rabbit',\n",
       " 'shark',\n",
       " 'sparrow']"
      ]
     },
     "execution_count": 17,
     "metadata": {},
     "output_type": "execute_result"
    }
   ],
   "source": [
    "# 동물이름만 뽑아 리스트로 만들기\r\n",
    "name_list=[]\r\n",
    "for i in range(10): # 파일개수가 10개임\r\n",
    "    name_list.append(glob('animals/*')[i].split('\\\\')[1].split('.')[0] )\r\n",
    "name_list"
   ]
  },
  {
   "cell_type": "code",
   "execution_count": 18,
   "metadata": {},
   "outputs": [
    {
     "name": "stdout",
     "output_type": "stream",
     "text": [
      "['dolphin', 'eagle', 'elephant', 'hawk', 'lion', 'panda', 'penguin', 'rabbit', 'shark', 'sparrow']\n"
     ]
    }
   ],
   "source": [
    "# sol\r\n",
    "name_list=[]\r\n",
    "for file in glob('animals/*'):\r\n",
    "    name = file.split('\\\\')[1]\r\n",
    "    name = name.split('.')[0]\r\n",
    "    name_list.append(name)\r\n",
    "print(name_list)"
   ]
  },
  {
   "cell_type": "markdown",
   "metadata": {},
   "source": [
    "## VGG16"
   ]
  },
  {
   "cell_type": "code",
   "execution_count": 21,
   "metadata": {},
   "outputs": [],
   "source": [
    "from tensorflow.keras.applications.vgg16 import VGG16, decode_predictions\r\n",
    "import numpy as np\r\n",
    "from PIL import Image"
   ]
  },
  {
   "cell_type": "code",
   "execution_count": 22,
   "metadata": {},
   "outputs": [
    {
     "name": "stdout",
     "output_type": "stream",
     "text": [
      "['sea_lion', 'kite', 'African_elephant', 'kite', 'white_wolf', 'gibbon', 'king_penguin', 'hare', 'great_white_shark', 'junco']\n"
     ]
    }
   ],
   "source": [
    "vgg16 = VGG16()\r\n",
    "vgg16_list = []\r\n",
    "for file in glob('animals/*'):\r\n",
    "    img = np.array(Image.open(file).resize((224,224)) )\r\n",
    "    yhat = vgg16.predict(img.reshape(-1,224,224,3))\r\n",
    "    label = decode_predictions(yhat)\r\n",
    "    vgg16_list.append(label[0][0][1])\r\n",
    "print(vgg16_list)"
   ]
  },
  {
   "cell_type": "markdown",
   "metadata": {},
   "source": [
    "## VGG 19"
   ]
  },
  {
   "cell_type": "code",
   "execution_count": 26,
   "metadata": {},
   "outputs": [
    {
     "name": "stdout",
     "output_type": "stream",
     "text": [
      "Downloading data from https://storage.googleapis.com/tensorflow/keras-applications/vgg19/vgg19_weights_tf_dim_ordering_tf_kernels.h5\n",
      "574717952/574710816 [==============================] - 76s 0us/step\n"
     ]
    }
   ],
   "source": [
    "from tensorflow.keras.applications.vgg19 import VGG19,decode_predictions\r\n",
    "\r\n",
    "# opencv \r\n",
    "import cv2\r\n",
    "vgg19= VGG19()"
   ]
  },
  {
   "cell_type": "code",
   "execution_count": 30,
   "metadata": {},
   "outputs": [
    {
     "name": "stdout",
     "output_type": "stream",
     "text": [
      "['dugong', 'kite', 'ice_bear', 'kite', 'Arctic_fox', 'giant_panda', 'king_penguin', 'hare', 'great_white_shark', 'house_finch']\n"
     ]
    }
   ],
   "source": [
    "vgg19_list = []\r\n",
    "for file in glob('animals/*'):\r\n",
    "    img = cv2.imread(file)\r\n",
    "    img = cv2.resize(img,(224,224))\r\n",
    "    img = cv2.cvtColor(img, cv2.COLOR_BGR2RGB)\r\n",
    "\r\n",
    "    yhat = vgg19.predict(img.reshape(-1,224,224,3))\r\n",
    "    label = decode_predictions(yhat)\r\n",
    "    vgg19_list.append(label[0][0][1])\r\n",
    "print(vgg19_list)"
   ]
  },
  {
   "cell_type": "markdown",
   "metadata": {},
   "source": [
    "# ResNet 50"
   ]
  },
  {
   "cell_type": "code",
   "execution_count": 39,
   "metadata": {},
   "outputs": [],
   "source": [
    "from tensorflow.keras.applications.resnet50 import ResNet50, decode_predictions\r\n",
    "resnet50 = ResNet50() "
   ]
  },
  {
   "cell_type": "code",
   "execution_count": 40,
   "metadata": {},
   "outputs": [
    {
     "name": "stdout",
     "output_type": "stream",
     "text": [
      "['sea_lion', 'kite', 'African_elephant', 'kite', 'kuvasz', 'indri', 'king_penguin', 'hare', 'great_white_shark', 'chickadee']\n"
     ]
    }
   ],
   "source": [
    "resnet50_list = []\r\n",
    "for file in glob('animals/*'):\r\n",
    "    img = np.array(Image.open(file).resize((224,224)))\r\n",
    "    yhat = resnet50.predict(img.reshape(-1, 224, 224, 3))\r\n",
    "    label = decode_predictions(yhat)\r\n",
    "    resnet50_list.append(label[0][0][1])\r\n",
    "print(resnet50_list)"
   ]
  },
  {
   "cell_type": "markdown",
   "metadata": {},
   "source": [
    "## ResNet 101"
   ]
  },
  {
   "cell_type": "code",
   "execution_count": 38,
   "metadata": {},
   "outputs": [
    {
     "name": "stdout",
     "output_type": "stream",
     "text": [
      "Downloading data from https://storage.googleapis.com/tensorflow/keras-applications/resnet/resnet101_weights_tf_dim_ordering_tf_kernels.h5\n",
      "179650560/179648224 [==============================] - 21s 0us/step\n"
     ]
    }
   ],
   "source": [
    "from tensorflow.keras.applications.resnet import ResNet101, decode_predictions\r\n",
    "resnet101 = ResNet101()"
   ]
  },
  {
   "cell_type": "code",
   "execution_count": 41,
   "metadata": {},
   "outputs": [
    {
     "name": "stdout",
     "output_type": "stream",
     "text": [
      "['king_penguin', 'kite', 'African_elephant', 'kite', 'clumber', 'giant_panda', 'king_penguin', 'hare', 'great_white_shark', 'indigo_bunting']\n"
     ]
    }
   ],
   "source": [
    "resnet101_list = []\r\n",
    "for file in glob('animals/*'):\r\n",
    "    img = np.array(Image.open(file).resize((224,224)))\r\n",
    "    yhat = resnet101.predict(img.reshape(-1, 224, 224, 3))\r\n",
    "    label = decode_predictions(yhat)\r\n",
    "    resnet101_list.append(label[0][0][1])\r\n",
    "print(resnet101_list)"
   ]
  },
  {
   "cell_type": "markdown",
   "metadata": {},
   "source": [
    "##  + ResNet 152"
   ]
  },
  {
   "cell_type": "code",
   "execution_count": 44,
   "metadata": {},
   "outputs": [
    {
     "name": "stdout",
     "output_type": "stream",
     "text": [
      "Downloading data from https://storage.googleapis.com/tensorflow/keras-applications/resnet/resnet152_weights_tf_dim_ordering_tf_kernels.h5\n",
      "242900992/242900224 [==============================] - 27s 0us/step\n"
     ]
    }
   ],
   "source": [
    "from tensorflow.keras.applications.resnet import ResNet152, decode_predictions\r\n",
    "resnet152 = ResNet152()"
   ]
  },
  {
   "cell_type": "code",
   "execution_count": 45,
   "metadata": {},
   "outputs": [
    {
     "name": "stdout",
     "output_type": "stream",
     "text": [
      "['sea_lion', 'kite', 'African_elephant', 'kite', 'white_wolf', 'giant_panda', 'king_penguin', 'hare', 'great_white_shark', 'indigo_bunting']\n"
     ]
    }
   ],
   "source": [
    "resnet152_list = []\r\n",
    "for file in glob('animals/*'):\r\n",
    "    img = np.array(Image.open(file).resize((224,224)))\r\n",
    "    yhat = resnet152.predict(img.reshape(-1, 224, 224, 3))\r\n",
    "    label = decode_predictions(yhat)\r\n",
    "    resnet152_list.append(label[0][0][1])\r\n",
    "print(resnet152_list)\r\n"
   ]
  },
  {
   "cell_type": "markdown",
   "metadata": {},
   "source": [
    "## + DenseNet 121\r\n",
    "### Arguments\r\n",
    "- include_top: \r\n",
    "\r\n",
    "        whether to include the fully-connected layer at the top of the network.\r\n",
    "\r\n",
    "- weights: \r\n",
    "\r\n",
    "        one of None (random initialization), 'imagenet' (pre-training on ImageNet), or the path to the weights file to be loaded.\r\n",
    "\r\n",
    "- input_tensor: \r\n",
    "\r\n",
    "        optional Keras tensor (i.e. output of layers.Input()) to use as image input for the model.\r\n",
    "\r\n",
    "- input_shape: \r\n",
    "\r\n",
    "        optional shape tuple, only to be specified if include_top is False (otherwise the input shape has to be (224, 224, 3) (with 'channels_last' data format) or (3, 224, 224) (with 'channels_first' data format). It should have exactly 3 inputs channels, and width and height should be no smaller than 32. E.g. (200, 200, 3) would be one valid value.\r\n",
    "\r\n",
    "-  pooling: \r\n",
    "\r\n",
    "        - Optional pooling mode for feature extraction when include_top is False.\r\n",
    "        - None means that the output of the model will be the 4D tensor output of the last convolutional block.\r\n",
    "        - avg means that global average pooling will be applied to the output of the last convolutional block, and thus the output of the model will be a 2D tensor.\r\n",
    "        - max means that global max pooling will be applied.\r\n",
    "        \r\n",
    "- classes: \r\n",
    "\r\n",
    "        optional number of classes to classify images into, only to be specified if include_top is True, and if no weights argument is specified."
   ]
  },
  {
   "cell_type": "code",
   "execution_count": 47,
   "metadata": {},
   "outputs": [
    {
     "name": "stdout",
     "output_type": "stream",
     "text": [
      "Downloading data from https://storage.googleapis.com/tensorflow/keras-applications/densenet/densenet121_weights_tf_dim_ordering_tf_kernels.h5\n",
      "33193984/33188688 [==============================] - 4s 0us/step\n"
     ]
    }
   ],
   "source": [
    "from tensorflow.keras.applications.densenet import DenseNet121\r\n",
    "densenet121 = DenseNet121()"
   ]
  },
  {
   "cell_type": "code",
   "execution_count": 48,
   "metadata": {},
   "outputs": [
    {
     "name": "stdout",
     "output_type": "stream",
     "text": [
      "['matchstick', 'analog_clock', 'web_site', 'ping-pong_ball', 'lampshade', 'tennis_ball', 'cradle', 'monitor', 'slot', 'pinwheel']\n"
     ]
    }
   ],
   "source": [
    "densenet121_list = []\r\n",
    "for file in glob('animals/*'):\r\n",
    "    img = np.array(Image.open(file).resize((224,224)))\r\n",
    "    yhat = densenet121.predict(img.reshape(-1, 224, 224, 3))\r\n",
    "    label = decode_predictions(yhat)\r\n",
    "    densenet121_list.append(label[0][0][1])\r\n",
    "print(densenet121_list)"
   ]
  },
  {
   "cell_type": "markdown",
   "metadata": {},
   "source": [
    "## 데이터 프레임으로 합치기"
   ]
  },
  {
   "cell_type": "code",
   "execution_count": 49,
   "metadata": {},
   "outputs": [
    {
     "data": {
      "text/html": [
       "<div>\n",
       "<style scoped>\n",
       "    .dataframe tbody tr th:only-of-type {\n",
       "        vertical-align: middle;\n",
       "    }\n",
       "\n",
       "    .dataframe tbody tr th {\n",
       "        vertical-align: top;\n",
       "    }\n",
       "\n",
       "    .dataframe thead th {\n",
       "        text-align: right;\n",
       "    }\n",
       "</style>\n",
       "<table border=\"1\" class=\"dataframe\">\n",
       "  <thead>\n",
       "    <tr style=\"text-align: right;\">\n",
       "      <th></th>\n",
       "      <th>Original</th>\n",
       "      <th>VGG16</th>\n",
       "      <th>VGG19</th>\n",
       "      <th>ResNet50</th>\n",
       "      <th>ResNet101</th>\n",
       "      <th>ResNet152</th>\n",
       "      <th>densenet121</th>\n",
       "    </tr>\n",
       "  </thead>\n",
       "  <tbody>\n",
       "    <tr>\n",
       "      <th>0</th>\n",
       "      <td>dolphin</td>\n",
       "      <td>sea_lion</td>\n",
       "      <td>dugong</td>\n",
       "      <td>sea_lion</td>\n",
       "      <td>king_penguin</td>\n",
       "      <td>sea_lion</td>\n",
       "      <td>matchstick</td>\n",
       "    </tr>\n",
       "    <tr>\n",
       "      <th>1</th>\n",
       "      <td>eagle</td>\n",
       "      <td>kite</td>\n",
       "      <td>kite</td>\n",
       "      <td>kite</td>\n",
       "      <td>kite</td>\n",
       "      <td>kite</td>\n",
       "      <td>analog_clock</td>\n",
       "    </tr>\n",
       "    <tr>\n",
       "      <th>2</th>\n",
       "      <td>elephant</td>\n",
       "      <td>African_elephant</td>\n",
       "      <td>ice_bear</td>\n",
       "      <td>African_elephant</td>\n",
       "      <td>African_elephant</td>\n",
       "      <td>African_elephant</td>\n",
       "      <td>web_site</td>\n",
       "    </tr>\n",
       "    <tr>\n",
       "      <th>3</th>\n",
       "      <td>hawk</td>\n",
       "      <td>kite</td>\n",
       "      <td>kite</td>\n",
       "      <td>kite</td>\n",
       "      <td>kite</td>\n",
       "      <td>kite</td>\n",
       "      <td>ping-pong_ball</td>\n",
       "    </tr>\n",
       "    <tr>\n",
       "      <th>4</th>\n",
       "      <td>lion</td>\n",
       "      <td>white_wolf</td>\n",
       "      <td>Arctic_fox</td>\n",
       "      <td>kuvasz</td>\n",
       "      <td>clumber</td>\n",
       "      <td>white_wolf</td>\n",
       "      <td>lampshade</td>\n",
       "    </tr>\n",
       "    <tr>\n",
       "      <th>5</th>\n",
       "      <td>panda</td>\n",
       "      <td>gibbon</td>\n",
       "      <td>giant_panda</td>\n",
       "      <td>indri</td>\n",
       "      <td>giant_panda</td>\n",
       "      <td>giant_panda</td>\n",
       "      <td>tennis_ball</td>\n",
       "    </tr>\n",
       "    <tr>\n",
       "      <th>6</th>\n",
       "      <td>penguin</td>\n",
       "      <td>king_penguin</td>\n",
       "      <td>king_penguin</td>\n",
       "      <td>king_penguin</td>\n",
       "      <td>king_penguin</td>\n",
       "      <td>king_penguin</td>\n",
       "      <td>cradle</td>\n",
       "    </tr>\n",
       "    <tr>\n",
       "      <th>7</th>\n",
       "      <td>rabbit</td>\n",
       "      <td>hare</td>\n",
       "      <td>hare</td>\n",
       "      <td>hare</td>\n",
       "      <td>hare</td>\n",
       "      <td>hare</td>\n",
       "      <td>monitor</td>\n",
       "    </tr>\n",
       "    <tr>\n",
       "      <th>8</th>\n",
       "      <td>shark</td>\n",
       "      <td>great_white_shark</td>\n",
       "      <td>great_white_shark</td>\n",
       "      <td>great_white_shark</td>\n",
       "      <td>great_white_shark</td>\n",
       "      <td>great_white_shark</td>\n",
       "      <td>slot</td>\n",
       "    </tr>\n",
       "    <tr>\n",
       "      <th>9</th>\n",
       "      <td>sparrow</td>\n",
       "      <td>junco</td>\n",
       "      <td>house_finch</td>\n",
       "      <td>chickadee</td>\n",
       "      <td>indigo_bunting</td>\n",
       "      <td>indigo_bunting</td>\n",
       "      <td>pinwheel</td>\n",
       "    </tr>\n",
       "  </tbody>\n",
       "</table>\n",
       "</div>"
      ],
      "text/plain": [
       "   Original              VGG16  ...          ResNet152     densenet121\n",
       "0   dolphin           sea_lion  ...           sea_lion      matchstick\n",
       "1     eagle               kite  ...               kite    analog_clock\n",
       "2  elephant   African_elephant  ...   African_elephant        web_site\n",
       "3      hawk               kite  ...               kite  ping-pong_ball\n",
       "4      lion         white_wolf  ...         white_wolf       lampshade\n",
       "5     panda             gibbon  ...        giant_panda     tennis_ball\n",
       "6   penguin       king_penguin  ...       king_penguin          cradle\n",
       "7    rabbit               hare  ...               hare         monitor\n",
       "8     shark  great_white_shark  ...  great_white_shark            slot\n",
       "9   sparrow              junco  ...     indigo_bunting        pinwheel\n",
       "\n",
       "[10 rows x 7 columns]"
      ]
     },
     "execution_count": 49,
     "metadata": {},
     "output_type": "execute_result"
    }
   ],
   "source": [
    "import pandas as pd\r\n",
    "df = pd.DataFrame({\r\n",
    "    'Original':name_list, 'VGG16':vgg16_list, 'VGG19':vgg19_list,\r\n",
    "    'ResNet50':resnet50_list, 'ResNet101':resnet101_list, 'ResNet152': resnet152_list, 'densenet121':densenet121_list\r\n",
    "})\r\n",
    "df"
   ]
  }
 ],
 "metadata": {
  "interpreter": {
   "hash": "8c1eae21719a0790335dcb83aad72b63b602cfe5cdb2bda0f60bc11d4f154e4b"
  },
  "kernelspec": {
   "display_name": "Python 3.8.5 64-bit ('base': conda)",
   "name": "python3"
  },
  "language_info": {
   "codemirror_mode": {
    "name": "ipython",
    "version": 3
   },
   "file_extension": ".py",
   "mimetype": "text/x-python",
   "name": "python",
   "nbconvert_exporter": "python",
   "pygments_lexer": "ipython3",
   "version": "3.8.5"
  },
  "orig_nbformat": 4
 },
 "nbformat": 4,
 "nbformat_minor": 2
}