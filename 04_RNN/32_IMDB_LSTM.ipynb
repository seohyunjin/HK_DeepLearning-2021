{
  "nbformat": 4,
  "nbformat_minor": 0,
  "metadata": {
    "colab": {
      "name": "Untitled5.ipynb",
      "provenance": []
    },
    "kernelspec": {
      "name": "python3",
      "display_name": "Python 3"
    },
    "language_info": {
      "name": "python"
    },
    "accelerator": "GPU"
  },
  "cells": [
    {
      "cell_type": "code",
      "metadata": {
        "id": "mTAo2IxPHa7O"
      },
      "source": [
        "import numpy as np \n",
        "import tensorflow as tf\n",
        "seed = 2021\n",
        "np.random.seed(seed)\n",
        "tf.random.set_seed(seed)"
      ],
      "execution_count": 1,
      "outputs": []
    },
    {
      "cell_type": "code",
      "metadata": {
        "id": "3f7EUG_rH30a"
      },
      "source": [
        "import matplotlib.pyplot as plt\n",
        "import seaborn as sns\n",
        "import warnings\n",
        "%matplotlib inline\n",
        "warnings.filterwarnings('ignore')"
      ],
      "execution_count": 2,
      "outputs": []
    },
    {
      "cell_type": "code",
      "metadata": {
        "colab": {
          "base_uri": "https://localhost:8080/"
        },
        "id": "no71ppSvH5EP",
        "outputId": "e216c1c1-a72b-4853-f342-66c366670839"
      },
      "source": [
        "from tensorflow.keras.datasets import imdb\n",
        "(X_train, y_train), (X_test, y_test) = imdb.load_data(\n",
        "    num_words=None\n",
        ")\n",
        "X_train.shape, X_test.shape"
      ],
      "execution_count": 3,
      "outputs": [
        {
          "output_type": "stream",
          "text": [
            "Downloading data from https://storage.googleapis.com/tensorflow/tf-keras-datasets/imdb.npz\n",
            "17465344/17464789 [==============================] - 0s 0us/step\n"
          ],
          "name": "stdout"
        },
        {
          "output_type": "execute_result",
          "data": {
            "text/plain": [
              "((25000,), (25000,))"
            ]
          },
          "metadata": {
            "tags": []
          },
          "execution_count": 3
        }
      ]
    },
    {
      "cell_type": "code",
      "metadata": {
        "colab": {
          "base_uri": "https://localhost:8080/"
        },
        "id": "lYfDw0q8H6rX",
        "outputId": "3b7cce84-3225-4cdd-d907-97fbd4c57a62"
      },
      "source": [
        "index_dict = {}\n",
        "for key, value in imdb.get_word_index().items():\n",
        "    index_dict[value] = key\n",
        "len(index_dict)"
      ],
      "execution_count": 4,
      "outputs": [
        {
          "output_type": "stream",
          "text": [
            "Downloading data from https://storage.googleapis.com/tensorflow/tf-keras-datasets/imdb_word_index.json\n",
            "1646592/1641221 [==============================] - 0s 0us/step\n"
          ],
          "name": "stdout"
        },
        {
          "output_type": "execute_result",
          "data": {
            "text/plain": [
              "88584"
            ]
          },
          "metadata": {
            "tags": []
          },
          "execution_count": 4
        }
      ]
    },
    {
      "cell_type": "code",
      "metadata": {
        "colab": {
          "base_uri": "https://localhost:8080/"
        },
        "id": "jqGRCUQJH90o",
        "outputId": "1aea4467-0605-48a7-9f37-75865d0b2a2a"
      },
      "source": [
        "# 뉴스 기사의 길이\n",
        "print('영화평 최대 길이:', max(len(l) for l in X_train))\n",
        "print('영화평 평균 길이:', sum(map(len, X_train))/len(X_train))"
      ],
      "execution_count": 5,
      "outputs": [
        {
          "output_type": "stream",
          "text": [
            "영화평 최대 길이: 2494\n",
            "영화평 평균 길이: 238.71364\n"
          ],
          "name": "stdout"
        }
      ]
    },
    {
      "cell_type": "code",
      "metadata": {
        "id": "sLj2zmnHH_en"
      },
      "source": [
        "from tensorflow.keras.models import Sequential, load_model\n",
        "from tensorflow.keras.layers import Embedding, LSTM, Dense\n",
        "from tensorflow.keras.callbacks import ModelCheckpoint, EarlyStopping\n",
        "from tensorflow.keras.preprocessing.sequence import pad_sequences"
      ],
      "execution_count": 6,
      "outputs": []
    },
    {
      "cell_type": "code",
      "metadata": {
        "id": "BT1mqYeCIDny"
      },
      "source": [
        "# 데이터 불러옴\n",
        "(X_train, y_train), (X_test, y_test) = imdb.load_data(num_words=5000)  # 단어 빈도수: 5000"
      ],
      "execution_count": 7,
      "outputs": []
    },
    {
      "cell_type": "code",
      "metadata": {
        "id": "ITqv7JN7IGm-"
      },
      "source": [
        "# 패딩\n",
        "max_len = 500 # 문장의 단어수 : 500단어\n",
        "X_train = pad_sequences(X_train,maxlen= max_len)\n",
        "X_test = pad_sequences(X_test, maxlen= max_len)"
      ],
      "execution_count": 8,
      "outputs": []
    },
    {
      "cell_type": "code",
      "metadata": {
        "colab": {
          "base_uri": "https://localhost:8080/"
        },
        "id": "hy0DeBXKIKz3",
        "outputId": "e2678b54-38fd-43ea-d252-71bcd294a2ba"
      },
      "source": [
        "from sklearn.model_selection import train_test_split\n",
        "\n",
        "X_test, X_val, y_test, y_val = train_test_split(\n",
        "    X_test, y_test, stratify= y_test, test_size = 0.4, random_state=seed\n",
        ")\n",
        "X_test.shape, X_val.shape, y_test.shape, y_val.shape"
      ],
      "execution_count": 9,
      "outputs": [
        {
          "output_type": "execute_result",
          "data": {
            "text/plain": [
              "((15000, 500), (10000, 500), (15000,), (10000,))"
            ]
          },
          "metadata": {
            "tags": []
          },
          "execution_count": 9
        }
      ]
    },
    {
      "cell_type": "markdown",
      "metadata": {
        "id": "1uOVnGa4IMYm"
      },
      "source": [
        "## 모델 정의 / 설정 / 학습 / 평가"
      ]
    },
    {
      "cell_type": "code",
      "metadata": {
        "colab": {
          "base_uri": "https://localhost:8080/"
        },
        "id": "lYCeKwP6IOKe",
        "outputId": "a0f06005-7b00-405b-8384-f291e29a2a55"
      },
      "source": [
        "model = Sequential([\n",
        "    Embedding(5000,120),\n",
        "    LSTM(120),\n",
        "    Dense(1, activation = 'sigmoid')\n",
        "\n",
        "])\n",
        "model.summary()"
      ],
      "execution_count": 11,
      "outputs": [
        {
          "output_type": "stream",
          "text": [
            "Model: \"sequential\"\n",
            "_________________________________________________________________\n",
            "Layer (type)                 Output Shape              Param #   \n",
            "=================================================================\n",
            "embedding_1 (Embedding)      (None, None, 120)         600000    \n",
            "_________________________________________________________________\n",
            "lstm (LSTM)                  (None, 120)               115680    \n",
            "_________________________________________________________________\n",
            "dense (Dense)                (None, 1)                 121       \n",
            "=================================================================\n",
            "Total params: 715,801\n",
            "Trainable params: 715,801\n",
            "Non-trainable params: 0\n",
            "_________________________________________________________________\n"
          ],
          "name": "stdout"
        }
      ]
    },
    {
      "cell_type": "code",
      "metadata": {
        "id": "djCiHKHAIV7A"
      },
      "source": [
        "model.compile(\n",
        "    optimizer='adam', loss = 'binary_crossentropy', metrics = ['accuracy']\n",
        ")"
      ],
      "execution_count": 12,
      "outputs": []
    },
    {
      "cell_type": "code",
      "metadata": {
        "id": "-CM7We4yIZMH"
      },
      "source": [
        "# Callback 함수\n",
        "import os\n",
        "if not os.path.exists('model'):\n",
        "  os.mkdir('model')\n",
        "model_file = 'model/best_imdb_conv1d_lstm.h5'\n",
        "mc = ModelCheckpoint(model_file, save_best_only=True, verbose=1)\n",
        "es = EarlyStopping(patience=5)"
      ],
      "execution_count": 14,
      "outputs": []
    },
    {
      "cell_type": "code",
      "metadata": {
        "colab": {
          "base_uri": "https://localhost:8080/"
        },
        "id": "SVBNHXM9Irl5",
        "outputId": "c6241950-d66f-4816-b4a5-67a21257bda0"
      },
      "source": [
        "history = model.fit(\n",
        "    X_train, y_train, batch_size=100, epochs=50,\n",
        "    validation_data=(X_val, y_val), verbose=0, callbacks=[mc, es]\n",
        ")"
      ],
      "execution_count": 15,
      "outputs": [
        {
          "output_type": "stream",
          "text": [
            "\n",
            "Epoch 00001: val_loss improved from inf to 0.31645, saving model to model/best_imdb_conv1d_lstm.h5\n",
            "\n",
            "Epoch 00002: val_loss did not improve from 0.31645\n",
            "\n",
            "Epoch 00003: val_loss improved from 0.31645 to 0.31215, saving model to model/best_imdb_conv1d_lstm.h5\n",
            "\n",
            "Epoch 00004: val_loss did not improve from 0.31215\n",
            "\n",
            "Epoch 00005: val_loss did not improve from 0.31215\n",
            "\n",
            "Epoch 00006: val_loss did not improve from 0.31215\n",
            "\n",
            "Epoch 00007: val_loss did not improve from 0.31215\n",
            "\n",
            "Epoch 00008: val_loss did not improve from 0.31215\n"
          ],
          "name": "stdout"
        }
      ]
    },
    {
      "cell_type": "code",
      "metadata": {
        "colab": {
          "base_uri": "https://localhost:8080/"
        },
        "id": "1UVrmvB_JN1_",
        "outputId": "383a85f7-bb18-403a-c101-dda806cc38b7"
      },
      "source": [
        "best_model = load_model(model_file)\n",
        "best_model.evaluate(X_test, y_test)"
      ],
      "execution_count": 16,
      "outputs": [
        {
          "output_type": "stream",
          "text": [
            "469/469 [==============================] - 5s 10ms/step - loss: 0.3144 - accuracy: 0.8727\n"
          ],
          "name": "stdout"
        },
        {
          "output_type": "execute_result",
          "data": {
            "text/plain": [
              "[0.3144129812717438, 0.8727333545684814]"
            ]
          },
          "metadata": {
            "tags": []
          },
          "execution_count": 16
        }
      ]
    }
  ]
}