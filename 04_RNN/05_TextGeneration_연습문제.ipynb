{
  "cells": [
    {
      "cell_type": "markdown",
      "metadata": {
        "id": "HqL41ptERj0F"
      },
      "source": [
        "# LSTM, GRU을 이용한 텍스트 생성\r\n",
        "- 데이터 다운로드 : 캐글 New York Times Comments\r\n",
        "- ArticlesApril2018.csv"
      ]
    },
    {
      "cell_type": "code",
      "execution_count": 1,
      "metadata": {
        "id": "MXZDFewvRj0J"
      },
      "outputs": [],
      "source": [
        "import numpy as np\n",
        "import tensorflow as tf \n",
        "seed = 2021\n",
        "np.random.seed(seed)\n",
        "tf.random.set_seed(seed)"
      ]
    },
    {
      "cell_type": "code",
      "execution_count": 2,
      "metadata": {
        "id": "zKrseEcORj0N"
      },
      "outputs": [],
      "source": [
        "from tensorflow.keras.preprocessing.text import Tokenizer\n",
        "from tensorflow.keras.preprocessing.sequence import pad_sequences\n",
        "from tensorflow.keras.utils import to_categorical   \n"
      ]
    },
    {
      "cell_type": "code",
      "execution_count": 3,
      "metadata": {
        "colab": {
          "base_uri": "https://localhost:8080/",
          "height": 598
        },
        "id": "tZURCEyuRj0O",
        "outputId": "b51ee27f-4fbd-43e4-cd4b-7efb28b4a476"
      },
      "outputs": [
        {
          "data": {
            "text/html": [
              "<div>\n",
              "<style scoped>\n",
              "    .dataframe tbody tr th:only-of-type {\n",
              "        vertical-align: middle;\n",
              "    }\n",
              "\n",
              "    .dataframe tbody tr th {\n",
              "        vertical-align: top;\n",
              "    }\n",
              "\n",
              "    .dataframe thead th {\n",
              "        text-align: right;\n",
              "    }\n",
              "</style>\n",
              "<table border=\"1\" class=\"dataframe\">\n",
              "  <thead>\n",
              "    <tr style=\"text-align: right;\">\n",
              "      <th></th>\n",
              "      <th>articleID</th>\n",
              "      <th>articleWordCount</th>\n",
              "      <th>byline</th>\n",
              "      <th>documentType</th>\n",
              "      <th>headline</th>\n",
              "      <th>keywords</th>\n",
              "      <th>multimedia</th>\n",
              "      <th>newDesk</th>\n",
              "      <th>printPage</th>\n",
              "      <th>pubDate</th>\n",
              "      <th>sectionName</th>\n",
              "      <th>snippet</th>\n",
              "      <th>source</th>\n",
              "      <th>typeOfMaterial</th>\n",
              "      <th>webURL</th>\n",
              "    </tr>\n",
              "  </thead>\n",
              "  <tbody>\n",
              "    <tr>\n",
              "      <th>0</th>\n",
              "      <td>5adf6684068401528a2aa69b</td>\n",
              "      <td>781</td>\n",
              "      <td>By JOHN BRANCH</td>\n",
              "      <td>article</td>\n",
              "      <td>Former N.F.L. Cheerleadersâ Settlement Offer...</td>\n",
              "      <td>['Workplace Hazards and Violations', 'Football...</td>\n",
              "      <td>68</td>\n",
              "      <td>Sports</td>\n",
              "      <td>0</td>\n",
              "      <td>2018-04-24 17:16:49</td>\n",
              "      <td>Pro Football</td>\n",
              "      <td>âI understand that they could meet with us, ...</td>\n",
              "      <td>The New York Times</td>\n",
              "      <td>News</td>\n",
              "      <td>https://www.nytimes.com/2018/04/24/sports/foot...</td>\n",
              "    </tr>\n",
              "    <tr>\n",
              "      <th>1</th>\n",
              "      <td>5adf653f068401528a2aa697</td>\n",
              "      <td>656</td>\n",
              "      <td>By LISA FRIEDMAN</td>\n",
              "      <td>article</td>\n",
              "      <td>E.P.A. to Unveil a New Rule. Its Effect: Less ...</td>\n",
              "      <td>['Environmental Protection Agency', 'Pruitt, S...</td>\n",
              "      <td>68</td>\n",
              "      <td>Climate</td>\n",
              "      <td>0</td>\n",
              "      <td>2018-04-24 17:11:21</td>\n",
              "      <td>Unknown</td>\n",
              "      <td>The agency plans to publish a new regulation T...</td>\n",
              "      <td>The New York Times</td>\n",
              "      <td>News</td>\n",
              "      <td>https://www.nytimes.com/2018/04/24/climate/epa...</td>\n",
              "    </tr>\n",
              "    <tr>\n",
              "      <th>2</th>\n",
              "      <td>5adf4626068401528a2aa628</td>\n",
              "      <td>2427</td>\n",
              "      <td>By PETE WELLS</td>\n",
              "      <td>article</td>\n",
              "      <td>The New Noma, Explained</td>\n",
              "      <td>['Restaurants', 'Noma (Copenhagen, Restaurant)...</td>\n",
              "      <td>66</td>\n",
              "      <td>Dining</td>\n",
              "      <td>0</td>\n",
              "      <td>2018-04-24 14:58:44</td>\n",
              "      <td>Unknown</td>\n",
              "      <td>Whatâs it like to eat at the second incarnat...</td>\n",
              "      <td>The New York Times</td>\n",
              "      <td>News</td>\n",
              "      <td>https://www.nytimes.com/2018/04/24/dining/noma...</td>\n",
              "    </tr>\n",
              "    <tr>\n",
              "      <th>3</th>\n",
              "      <td>5adf40d2068401528a2aa619</td>\n",
              "      <td>626</td>\n",
              "      <td>By JULIE HIRSCHFELD DAVIS and PETER BAKER</td>\n",
              "      <td>article</td>\n",
              "      <td>Unknown</td>\n",
              "      <td>['Macron, Emmanuel (1977- )', 'Trump, Donald J...</td>\n",
              "      <td>68</td>\n",
              "      <td>Washington</td>\n",
              "      <td>0</td>\n",
              "      <td>2018-04-24 14:35:57</td>\n",
              "      <td>Europe</td>\n",
              "      <td>President Trump welcomed President Emmanuel Ma...</td>\n",
              "      <td>The New York Times</td>\n",
              "      <td>News</td>\n",
              "      <td>https://www.nytimes.com/2018/04/24/world/europ...</td>\n",
              "    </tr>\n",
              "    <tr>\n",
              "      <th>4</th>\n",
              "      <td>5adf3d64068401528a2aa60f</td>\n",
              "      <td>815</td>\n",
              "      <td>By IAN AUSTEN and DAN BILEFSKY</td>\n",
              "      <td>article</td>\n",
              "      <td>Unknown</td>\n",
              "      <td>['Toronto, Ontario, Attack (April, 2018)', 'Mu...</td>\n",
              "      <td>68</td>\n",
              "      <td>Foreign</td>\n",
              "      <td>0</td>\n",
              "      <td>2018-04-24 14:21:21</td>\n",
              "      <td>Canada</td>\n",
              "      <td>Alek Minassian, 25, a resident of Torontoâs ...</td>\n",
              "      <td>The New York Times</td>\n",
              "      <td>News</td>\n",
              "      <td>https://www.nytimes.com/2018/04/24/world/canad...</td>\n",
              "    </tr>\n",
              "  </tbody>\n",
              "</table>\n",
              "</div>"
            ],
            "text/plain": [
              "                  articleID  ...                                             webURL\n",
              "0  5adf6684068401528a2aa69b  ...  https://www.nytimes.com/2018/04/24/sports/foot...\n",
              "1  5adf653f068401528a2aa697  ...  https://www.nytimes.com/2018/04/24/climate/epa...\n",
              "2  5adf4626068401528a2aa628  ...  https://www.nytimes.com/2018/04/24/dining/noma...\n",
              "3  5adf40d2068401528a2aa619  ...  https://www.nytimes.com/2018/04/24/world/europ...\n",
              "4  5adf3d64068401528a2aa60f  ...  https://www.nytimes.com/2018/04/24/world/canad...\n",
              "\n",
              "[5 rows x 15 columns]"
            ]
          },
          "execution_count": 3,
          "metadata": {
            "tags": []
          },
          "output_type": "execute_result"
        }
      ],
      "source": [
        "import pandas as pd\n",
        "df = pd.read_csv('data/ArticlesApril2018.csv', encoding='latin1')\n",
        "df.head()"
      ]
    },
    {
      "cell_type": "markdown",
      "metadata": {
        "id": "2Y2PYI5TRj0R"
      },
      "source": [
        "## 데이터 전처리"
      ]
    },
    {
      "cell_type": "code",
      "execution_count": 4,
      "metadata": {
        "colab": {
          "base_uri": "https://localhost:8080/"
        },
        "id": "TeSVp8ZrRj0R",
        "outputId": "a2b592d2-2dc1-4669-f05c-affe244145b4"
      },
      "outputs": [
        {
          "data": {
            "text/plain": [
              "Index(['articleID', 'articleWordCount', 'byline', 'documentType', 'headline',\n",
              "       'keywords', 'multimedia', 'newDesk', 'printPage', 'pubDate',\n",
              "       'sectionName', 'snippet', 'source', 'typeOfMaterial', 'webURL'],\n",
              "      dtype='object')"
            ]
          },
          "execution_count": 4,
          "metadata": {
            "tags": []
          },
          "output_type": "execute_result"
        }
      ],
      "source": [
        "df.columns"
      ]
    },
    {
      "cell_type": "code",
      "execution_count": 5,
      "metadata": {
        "colab": {
          "base_uri": "https://localhost:8080/"
        },
        "id": "1gUJDrQaRj0S",
        "outputId": "597b96c3-9208-4c8e-ed37-4ff6368408ac"
      },
      "outputs": [
        {
          "data": {
            "text/plain": [
              "0"
            ]
          },
          "execution_count": 5,
          "metadata": {
            "tags": []
          },
          "output_type": "execute_result"
        }
      ],
      "source": [
        "# headline 열 데이터만 사용, Null 검사\n",
        "df.headline.isnull().sum()"
      ]
    },
    {
      "cell_type": "code",
      "execution_count": 6,
      "metadata": {
        "colab": {
          "base_uri": "https://localhost:8080/"
        },
        "id": "ggnnaUpkRj0T",
        "outputId": "746f723d-4858-49e2-f577-4a4bb04b59e4"
      },
      "outputs": [
        {
          "data": {
            "text/plain": [
              "1324"
            ]
          },
          "execution_count": 6,
          "metadata": {
            "tags": []
          },
          "output_type": "execute_result"
        }
      ],
      "source": [
        "headlines = [text for text in df.headline.values]\n",
        "len(headlines)"
      ]
    },
    {
      "cell_type": "code",
      "execution_count": 7,
      "metadata": {
        "colab": {
          "base_uri": "https://localhost:8080/"
        },
        "id": "2W-zkxe-Rj0T",
        "outputId": "89eb58bb-c76d-4b56-b887-474e6558a561"
      },
      "outputs": [
        {
          "data": {
            "text/plain": [
              "['Former N.F.L. Cheerleadersâ\\x80\\x99 Settlement Offer: $1 and a Meeting With Goodell',\n",
              " 'E.P.A. to Unveil a New Rule. Its Effect: Less Science in Policymaking.',\n",
              " 'The New Noma, Explained',\n",
              " 'Unknown',\n",
              " 'Unknown']"
            ]
          },
          "execution_count": 7,
          "metadata": {
            "tags": []
          },
          "output_type": "execute_result"
        }
      ],
      "source": [
        "headlines[:5]  #데이터 확인"
      ]
    },
    {
      "cell_type": "code",
      "execution_count": 8,
      "metadata": {
        "colab": {
          "base_uri": "https://localhost:8080/"
        },
        "id": "-U8PJ_1nRj0U",
        "outputId": "5e41308a-b684-4574-8603-43cff6a880af"
      },
      "outputs": [
        {
          "data": {
            "text/plain": [
              "1214"
            ]
          },
          "execution_count": 8,
          "metadata": {
            "tags": []
          },
          "output_type": "execute_result"
        }
      ],
      "source": [
        "# 노이즈 데이터('unknown')제거\n",
        "headlines = [text for text in headlines if text != 'Unknown']\n",
        "len(headlines)"
      ]
    },
    {
      "cell_type": "code",
      "execution_count": 9,
      "metadata": {
        "colab": {
          "base_uri": "https://localhost:8080/",
          "height": 35
        },
        "id": "0BxO3MHERj0V",
        "outputId": "6cb6f982-1be2-4f2c-ecd8-bb27c4e6ddba"
      },
      "outputs": [
        {
          "data": {
            "application/vnd.google.colaboratory.intrinsic+json": {
              "type": "string"
            },
            "text/plain": [
              "'!\"#$%&\\'()*+,-./:;<=>?@[\\\\]^_`{|}~'"
            ]
          },
          "execution_count": 9,
          "metadata": {
            "tags": []
          },
          "output_type": "execute_result"
        }
      ],
      "source": [
        "# 구둣점 제거, 소문자로 변환\n",
        "from string import punctuation\n",
        "punctuation"
      ]
    },
    {
      "cell_type": "code",
      "execution_count": 10,
      "metadata": {
        "id": "rz6OkYPlRj0V"
      },
      "outputs": [],
      "source": [
        "def preprocessing(s):\n",
        "    s = s.encode('utf8').decode('ascii','ignore')\n",
        "    return ''.join(c for c in s if c not in punctuation).lower()"
      ]
    },
    {
      "cell_type": "code",
      "execution_count": 11,
      "metadata": {
        "colab": {
          "base_uri": "https://localhost:8080/"
        },
        "id": "1lPlKCYsRj0W",
        "outputId": "05498d6a-03a2-437c-f4ad-777db863ad04"
      },
      "outputs": [
        {
          "data": {
            "text/plain": [
              "['former nfl cheerleaders settlement offer 1 and a meeting with goodell',\n",
              " 'epa to unveil a new rule its effect less science in policymaking',\n",
              " 'the new noma explained']"
            ]
          },
          "execution_count": 11,
          "metadata": {
            "tags": []
          },
          "output_type": "execute_result"
        }
      ],
      "source": [
        "headlines = [preprocessing(s) for s in headlines]\n",
        "headlines[:3]"
      ]
    },
    {
      "cell_type": "code",
      "execution_count": 12,
      "metadata": {
        "colab": {
          "base_uri": "https://localhost:8080/"
        },
        "id": "9m978uMrRj0W",
        "outputId": "afd5994f-b374-4a1d-edea-ced1c64326e3"
      },
      "outputs": [
        {
          "data": {
            "text/plain": [
              "3494"
            ]
          },
          "execution_count": 12,
          "metadata": {
            "tags": []
          },
          "output_type": "execute_result"
        }
      ],
      "source": [
        "# 단어 집합을 만들고, 그 크기를 확인\n",
        "t = Tokenizer()\n",
        "t.fit_on_texts(headlines)\n",
        "vocab_size = len(t.word_index) +1\n",
        "vocab_size "
      ]
    },
    {
      "cell_type": "code",
      "execution_count": 13,
      "metadata": {
        "colab": {
          "base_uri": "https://localhost:8080/"
        },
        "id": "tz5IA8IQRj0X",
        "outputId": "0719cda4-9585-493b-99ff-e5f2704da2b8"
      },
      "outputs": [
        {
          "data": {
            "text/plain": [
              "[[99, 269],\n",
              " [99, 269, 371],\n",
              " [99, 269, 371, 1115],\n",
              " [99, 269, 371, 1115, 582],\n",
              " [99, 269, 371, 1115, 582, 52],\n",
              " [99, 269, 371, 1115, 582, 52, 7],\n",
              " [99, 269, 371, 1115, 582, 52, 7, 2],\n",
              " [99, 269, 371, 1115, 582, 52, 7, 2, 372],\n",
              " [99, 269, 371, 1115, 582, 52, 7, 2, 372, 10],\n",
              " [99, 269, 371, 1115, 582, 52, 7, 2, 372, 10, 1116],\n",
              " [100, 3]]"
            ]
          },
          "execution_count": 13,
          "metadata": {
            "tags": []
          },
          "output_type": "execute_result"
        }
      ],
      "source": [
        "# 학습에 사용될 샘플 시퀀스\n",
        "sequences = []\n",
        "for line in headlines:\n",
        "    encoded = t.texts_to_sequences([line])[0]\n",
        "    for i in range(1, len(encoded)):\n",
        "        sequence= encoded[: i+1]\n",
        "        sequences.append(sequence)\n",
        "sequences[:11]"
      ]
    },
    {
      "cell_type": "code",
      "execution_count": 14,
      "metadata": {
        "colab": {
          "base_uri": "https://localhost:8080/"
        },
        "id": "cMieZKt7Rj0Y",
        "outputId": "58715b3b-904f-4180-8063-21d9caba1a3b"
      },
      "outputs": [
        {
          "data": {
            "text/plain": [
              "24"
            ]
          },
          "execution_count": 14,
          "metadata": {
            "tags": []
          },
          "output_type": "execute_result"
        }
      ],
      "source": [
        "# 최대 길이 찾기 # 패딩씌우려고\n",
        "max_len = max(len(s) for s in sequences ) \n",
        "max_len"
      ]
    },
    {
      "cell_type": "code",
      "execution_count": 15,
      "metadata": {
        "colab": {
          "base_uri": "https://localhost:8080/"
        },
        "id": "_E_DkiArRj0Z",
        "outputId": "d6f28dd2-6dee-4c74-efa4-ed4fa47c3af9"
      },
      "outputs": [
        {
          "data": {
            "text/plain": [
              "array([[   0,    0,    0,    0,    0,    0,    0,    0,    0,    0,    0,\n",
              "           0,    0,    0,    0,    0,    0,    0,    0,    0,    0,    0,\n",
              "          99,  269],\n",
              "       [   0,    0,    0,    0,    0,    0,    0,    0,    0,    0,    0,\n",
              "           0,    0,    0,    0,    0,    0,    0,    0,    0,    0,   99,\n",
              "         269,  371],\n",
              "       [   0,    0,    0,    0,    0,    0,    0,    0,    0,    0,    0,\n",
              "           0,    0,    0,    0,    0,    0,    0,    0,    0,   99,  269,\n",
              "         371, 1115]], dtype=int32)"
            ]
          },
          "execution_count": 15,
          "metadata": {
            "tags": []
          },
          "output_type": "execute_result"
        }
      ],
      "source": [
        "sequences = pad_sequences(sequences, maxlen= max_len, padding = 'pre') #패딩 앞에 씌움\n",
        "sequences[:3]"
      ]
    },
    {
      "cell_type": "code",
      "execution_count": 16,
      "metadata": {
        "colab": {
          "base_uri": "https://localhost:8080/"
        },
        "id": "UaEDiQteRj0b",
        "outputId": "013f8908-b93c-40d0-c73d-e8566dda4307"
      },
      "outputs": [
        {
          "data": {
            "text/plain": [
              "((7803, 23), (7803, 3494))"
            ]
          },
          "execution_count": 16,
          "metadata": {
            "tags": []
          },
          "output_type": "execute_result"
        }
      ],
      "source": [
        "X = sequences[:,:-1]\n",
        "y = sequences[:,-1]\n",
        "Y = to_categorical(y)  #to_categorical(y, vocab_size)\n",
        "X.shape, Y.shape"
      ]
    },
    {
      "cell_type": "code",
      "execution_count": 17,
      "metadata": {
        "colab": {
          "base_uri": "https://localhost:8080/",
          "height": 35
        },
        "id": "7m1s3XA9Rj0c",
        "outputId": "fdfd1911-54bf-4752-e2cc-90ab3085d383"
      },
      "outputs": [
        {
          "data": {
            "application/vnd.google.colaboratory.intrinsic+json": {
              "type": "string"
            },
            "text/plain": [
              "'former nfl cheerleaders settlement offer 1 and a meting with goodell'"
            ]
          },
          "execution_count": 17,
          "metadata": {
            "tags": []
          },
          "output_type": "execute_result"
        }
      ],
      "source": [
        "'former nfl cheerleaders settlement offer 1 and a meting with goodell'"
      ]
    },
    {
      "cell_type": "markdown",
      "metadata": {
        "id": "2XNnICncRj0d"
      },
      "source": [
        "## 모델 정의 / 설정 / 학습\n",
        "- Embedding\n",
        "- LSTM\n",
        "- GRU"
      ]
    },
    {
      "cell_type": "code",
      "execution_count": 18,
      "metadata": {
        "id": "wY-T2ATDRj0d"
      },
      "outputs": [],
      "source": [
        "from tensorflow.keras.models import Sequential\n",
        "from tensorflow.keras.layers import Embedding, LSTM, GRU, Dense\n",
        "from my_util import sentence_generation"
      ]
    },
    {
      "cell_type": "code",
      "execution_count": 19,
      "metadata": {
        "id": "35wnPdYGdwCQ"
      },
      "outputs": [],
      "source": [
        "def execute_model_LSTM(n_embed): \n",
        "    model = Sequential([\n",
        "    Embedding(vocab_size,n_embed, input_length= max_len -1), # 4: 4차원\n",
        "    LSTM(128),\n",
        "    Dense(vocab_size, activation='softmax')\n",
        "    ])\n",
        "    model.compile(\n",
        "    optimizer='adam', loss = 'categorical_crossentropy', metrics = ['accuracy']\n",
        "    )\n",
        "    history = model.fit(X, Y, epochs =200, verbose =0 )\n",
        "    print(f\"정확도: {history.history['accuracy'][-1] }\")\n",
        "    print(sentence_generation(model, t, max_len, 'i',10))\n",
        "    print(sentence_generation(model,t, max_len,'epa',10))\n",
        "    print(sentence_generation(model, t, max_len, 'former',10))"
      ]
    },
    {
      "cell_type": "code",
      "execution_count": 20,
      "metadata": {
        "id": "RMzClqsZhqnT"
      },
      "outputs": [],
      "source": [
        "def execute_model_GRU(n_embed): \n",
        "    model = Sequential([\n",
        "    Embedding(vocab_size,n_embed, input_length= max_len -1), # 4: 4차원\n",
        "    GRU(128),\n",
        "    Dense(vocab_size, activation='softmax')\n",
        "    ])\n",
        "    model.compile(\n",
        "    optimizer='adam', loss = 'categorical_crossentropy', metrics = ['accuracy']\n",
        "    )\n",
        "    history = model.fit(X, Y, epochs =200, verbose =0 )\n",
        "    print(f\"정확도: {history.history['accuracy'][-1] }\")\n",
        "    print(sentence_generation(model, t, max_len, 'i',10))\n",
        "    print(sentence_generation(model,t, max_len,'epa',10))\n",
        "    print(sentence_generation(model, t, max_len, 'former',10))"
      ]
    },
    {
      "cell_type": "code",
      "execution_count": 21,
      "metadata": {
        "colab": {
          "base_uri": "https://localhost:8080/"
        },
        "id": "MFqbJrTXeSZa",
        "outputId": "16e3126b-2a16-4b67-eaea-fd49841fb737"
      },
      "outputs": [
        {
          "name": "stdout",
          "output_type": "stream",
          "text": [
            "==============LSTM============\n",
            " LSTM_128 :  n_embed=8\n",
            "정확도: 0.9175958037376404\n",
            "i want to be rich and im not sorry work about\n",
            "epa sheriff indulged pruitt as security spending mounted work law plans\n",
            "former nfl cheerleaders settlement offer 1 and a meeting with goodell\n",
            "==============GRU===============\n",
            " GRU_128 :  n_embed=8\n",
            "정확도: 0.9125977158546448\n",
            "i want to be rich and im not sorry control on\n",
            "epa sheriff indulged pruitt as security spending mounted left i can\n",
            "former judge to review files seized in searches our crash usually\n",
            "\n",
            "==============LSTM============\n",
            " LSTM_128 :  n_embed=10\n",
            "정확도: 0.9174676537513733\n",
            "i want to be rich and im not sorry duties on\n",
            "epa sheriff indulged pruitt as security spending mounted feeling now as\n",
            "former nfl cheerleaders settlement offer 1 and a meeting with goodell\n",
            "==============GRU===============\n",
            " GRU_128 :  n_embed=10\n",
            "정확도: 0.9163142442703247\n",
            "i want to be rich and im not sorry king home\n",
            "epa sheriff indulged pruitt as security spending mounted left home didnt\n",
            "former nfl cheerleaders settlement offer 1 and a meeting with goodell\n",
            "\n",
            "==============LSTM============\n",
            " LSTM_128 :  n_embed=12\n",
            "정확도: 0.9177239537239075\n",
            "i want to be rich and im not sorry attack at\n",
            "epa sheriff indulged pruitt as security spending mounted russia by russia\n",
            "former nfl cheerleaders settlement offer 1 and a meeting with goodell\n",
            "==============GRU===============\n",
            " GRU_128 :  n_embed=12\n",
            "정확도: 0.916698694229126\n",
            "i want to be rich and im not sorry remember died\n",
            "epa sheriff indulged pruitt as security spending mounted affair rooted a\n",
            "former nfl cheerleaders settlement offer 1 and a meeting with goodell\n",
            "\n"
          ]
        }
      ],
      "source": [
        "for n_embed in [8,10,12]:\n",
        "     print('==============LSTM============')\n",
        "     print(f' LSTM_128 :  n_embed={n_embed}')\n",
        "     execute_model_LSTM(n_embed)\n",
        "     print('==============GRU===============')\n",
        "     print(f' GRU_128 :  n_embed={n_embed}')\n",
        "     execute_model_GRU(n_embed)\n",
        "     print()"
      ]
    }
  ],
  "metadata": {
    "accelerator": "GPU",
    "colab": {
      "collapsed_sections": [],
      "name": "04_TextGeneration_GRU.ipynb",
      "provenance": []
    },
    "interpreter": {
      "hash": "8c1eae21719a0790335dcb83aad72b63b602cfe5cdb2bda0f60bc11d4f154e4b"
    },
    "kernelspec": {
      "display_name": "Python 3.8.5 64-bit ('base': conda)",
      "name": "python3"
    },
    "language_info": {
      "name": "python",
      "version": ""
    },
    "orig_nbformat": 4
  },
  "nbformat": 4,
  "nbformat_minor": 0
}