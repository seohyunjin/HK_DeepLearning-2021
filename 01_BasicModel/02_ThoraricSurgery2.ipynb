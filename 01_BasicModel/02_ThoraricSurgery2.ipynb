{
 "cells": [
  {
   "cell_type": "markdown",
   "metadata": {},
   "source": [
    "# 폐병 환자 수술 (Thoraric Surgery)"
   ]
  },
  {
   "cell_type": "code",
   "execution_count": 2,
   "metadata": {},
   "outputs": [],
   "source": [
    "import numpy as np\r\n",
    "import pandas as pd"
   ]
  },
  {
   "cell_type": "markdown",
   "metadata": {},
   "source": [
    "## 1. 데이터 셋 만들기"
   ]
  },
  {
   "cell_type": "code",
   "execution_count": 3,
   "metadata": {},
   "outputs": [
    {
     "data": {
      "text/html": [
       "<div>\n",
       "<style scoped>\n",
       "    .dataframe tbody tr th:only-of-type {\n",
       "        vertical-align: middle;\n",
       "    }\n",
       "\n",
       "    .dataframe tbody tr th {\n",
       "        vertical-align: top;\n",
       "    }\n",
       "\n",
       "    .dataframe thead th {\n",
       "        text-align: right;\n",
       "    }\n",
       "</style>\n",
       "<table border=\"1\" class=\"dataframe\">\n",
       "  <thead>\n",
       "    <tr style=\"text-align: right;\">\n",
       "      <th></th>\n",
       "      <th>0</th>\n",
       "      <th>1</th>\n",
       "      <th>2</th>\n",
       "      <th>3</th>\n",
       "      <th>4</th>\n",
       "      <th>5</th>\n",
       "      <th>6</th>\n",
       "      <th>7</th>\n",
       "      <th>8</th>\n",
       "      <th>9</th>\n",
       "      <th>10</th>\n",
       "      <th>11</th>\n",
       "      <th>12</th>\n",
       "      <th>13</th>\n",
       "      <th>14</th>\n",
       "      <th>15</th>\n",
       "      <th>16</th>\n",
       "      <th>17</th>\n",
       "    </tr>\n",
       "  </thead>\n",
       "  <tbody>\n",
       "    <tr>\n",
       "      <th>0</th>\n",
       "      <td>293</td>\n",
       "      <td>1</td>\n",
       "      <td>3.80</td>\n",
       "      <td>2.80</td>\n",
       "      <td>0</td>\n",
       "      <td>0</td>\n",
       "      <td>0</td>\n",
       "      <td>0</td>\n",
       "      <td>0</td>\n",
       "      <td>0</td>\n",
       "      <td>12</td>\n",
       "      <td>0</td>\n",
       "      <td>0</td>\n",
       "      <td>0</td>\n",
       "      <td>1</td>\n",
       "      <td>0</td>\n",
       "      <td>62</td>\n",
       "      <td>0</td>\n",
       "    </tr>\n",
       "    <tr>\n",
       "      <th>1</th>\n",
       "      <td>1</td>\n",
       "      <td>2</td>\n",
       "      <td>2.88</td>\n",
       "      <td>2.16</td>\n",
       "      <td>1</td>\n",
       "      <td>0</td>\n",
       "      <td>0</td>\n",
       "      <td>0</td>\n",
       "      <td>1</td>\n",
       "      <td>1</td>\n",
       "      <td>14</td>\n",
       "      <td>0</td>\n",
       "      <td>0</td>\n",
       "      <td>0</td>\n",
       "      <td>1</td>\n",
       "      <td>0</td>\n",
       "      <td>60</td>\n",
       "      <td>0</td>\n",
       "    </tr>\n",
       "    <tr>\n",
       "      <th>2</th>\n",
       "      <td>8</td>\n",
       "      <td>2</td>\n",
       "      <td>3.19</td>\n",
       "      <td>2.50</td>\n",
       "      <td>1</td>\n",
       "      <td>0</td>\n",
       "      <td>0</td>\n",
       "      <td>0</td>\n",
       "      <td>1</td>\n",
       "      <td>0</td>\n",
       "      <td>11</td>\n",
       "      <td>0</td>\n",
       "      <td>0</td>\n",
       "      <td>1</td>\n",
       "      <td>1</td>\n",
       "      <td>0</td>\n",
       "      <td>66</td>\n",
       "      <td>1</td>\n",
       "    </tr>\n",
       "    <tr>\n",
       "      <th>3</th>\n",
       "      <td>14</td>\n",
       "      <td>2</td>\n",
       "      <td>3.98</td>\n",
       "      <td>3.06</td>\n",
       "      <td>2</td>\n",
       "      <td>0</td>\n",
       "      <td>0</td>\n",
       "      <td>0</td>\n",
       "      <td>1</td>\n",
       "      <td>1</td>\n",
       "      <td>14</td>\n",
       "      <td>0</td>\n",
       "      <td>0</td>\n",
       "      <td>0</td>\n",
       "      <td>1</td>\n",
       "      <td>0</td>\n",
       "      <td>80</td>\n",
       "      <td>1</td>\n",
       "    </tr>\n",
       "    <tr>\n",
       "      <th>4</th>\n",
       "      <td>17</td>\n",
       "      <td>2</td>\n",
       "      <td>2.21</td>\n",
       "      <td>1.88</td>\n",
       "      <td>0</td>\n",
       "      <td>0</td>\n",
       "      <td>1</td>\n",
       "      <td>0</td>\n",
       "      <td>0</td>\n",
       "      <td>0</td>\n",
       "      <td>12</td>\n",
       "      <td>0</td>\n",
       "      <td>0</td>\n",
       "      <td>0</td>\n",
       "      <td>1</td>\n",
       "      <td>0</td>\n",
       "      <td>56</td>\n",
       "      <td>0</td>\n",
       "    </tr>\n",
       "  </tbody>\n",
       "</table>\n",
       "</div>"
      ],
      "text/plain": [
       "    0   1     2     3   4   5   6   7   8   9   10  11  12  13  14  15  16  17\n",
       "0  293   1  3.80  2.80   0   0   0   0   0   0  12   0   0   0   1   0  62   0\n",
       "1    1   2  2.88  2.16   1   0   0   0   1   1  14   0   0   0   1   0  60   0\n",
       "2    8   2  3.19  2.50   1   0   0   0   1   0  11   0   0   1   1   0  66   1\n",
       "3   14   2  3.98  3.06   2   0   0   0   1   1  14   0   0   0   1   0  80   1\n",
       "4   17   2  2.21  1.88   0   0   1   0   0   0  12   0   0   0   1   0  56   0"
      ]
     },
     "execution_count": 3,
     "metadata": {},
     "output_type": "execute_result"
    }
   ],
   "source": [
    "df = pd.read_csv('dataset/ThoraricSurgery.csv',header = None)\r\n",
    "df.head()"
   ]
  },
  {
   "cell_type": "code",
   "execution_count": 4,
   "metadata": {},
   "outputs": [
    {
     "data": {
      "text/plain": [
       "((352, 17), (118, 17), (352,), (118,))"
      ]
     },
     "execution_count": 4,
     "metadata": {},
     "output_type": "execute_result"
    }
   ],
   "source": [
    "from sklearn.model_selection import train_test_split\r\n",
    "\r\n",
    "X_train, X_test, y_train, y_test = train_test_split(  \r\n",
    "    df.iloc[:,:-1].values, df.iloc[:,-1].values\r\n",
    ")\r\n",
    "X_train.shape, X_test.shape, y_train.shape, y_test.shape"
   ]
  },
  {
   "cell_type": "code",
   "execution_count": 5,
   "metadata": {},
   "outputs": [],
   "source": [
    "import tensorflow as tf\r\n",
    "seed = 2021 # 할때마다 동일한 결과를 내기 위해 seed 값 지정함\r\n",
    "np.random.seed(seed)\r\n",
    "tf.random.set_seed(seed)"
   ]
  },
  {
   "cell_type": "code",
   "execution_count": 6,
   "metadata": {},
   "outputs": [],
   "source": [
    "from tensorflow.keras.models import Sequential\r\n",
    "from tensorflow.keras.layers import Dense"
   ]
  },
  {
   "cell_type": "markdown",
   "metadata": {},
   "source": [
    "### - 은닉층(hidden layer)을 여러개 둠"
   ]
  },
  {
   "cell_type": "code",
   "execution_count": 7,
   "metadata": {},
   "outputs": [
    {
     "name": "stdout",
     "output_type": "stream",
     "text": [
      "Model: \"sequential\"\n",
      "_________________________________________________________________\n",
      "Layer (type)                 Output Shape              Param #   \n",
      "=================================================================\n",
      "dense (Dense)                (None, 24)                432       \n",
      "_________________________________________________________________\n",
      "dense_1 (Dense)              (None, 10)                250       \n",
      "_________________________________________________________________\n",
      "dense_2 (Dense)              (None, 1)                 11        \n",
      "=================================================================\n",
      "Total params: 693\n",
      "Trainable params: 693\n",
      "Non-trainable params: 0\n",
      "_________________________________________________________________\n"
     ]
    }
   ],
   "source": [
    "model = Sequential()\r\n",
    "model.add(Dense(24, input_shape=(17,), activation='relu'))\r\n",
    "model.add(Dense(10, activation='relu'))\r\n",
    "model.add(Dense(1, activation='sigmoid'))\r\n",
    "model.summary()"
   ]
  },
  {
   "cell_type": "code",
   "execution_count": 8,
   "metadata": {},
   "outputs": [
    {
     "name": "stdout",
     "output_type": "stream",
     "text": [
      "Model: \"sequential_1\"\n",
      "_________________________________________________________________\n",
      "Layer (type)                 Output Shape              Param #   \n",
      "=================================================================\n",
      "dense_3 (Dense)              (None, 24)                432       \n",
      "_________________________________________________________________\n",
      "dense_4 (Dense)              (None, 10)                250       \n",
      "_________________________________________________________________\n",
      "dense_5 (Dense)              (None, 1)                 11        \n",
      "=================================================================\n",
      "Total params: 693\n",
      "Trainable params: 693\n",
      "Non-trainable params: 0\n",
      "_________________________________________________________________\n"
     ]
    }
   ],
   "source": [
    "# 위와 같은 결과\r\n",
    "# input_dim=17 으로 써도 됨 \r\n",
    "\r\n",
    "model = Sequential([\r\n",
    "    Dense(24, input_dim=17, activation='relu'),\r\n",
    "    Dense(10, activation='relu'),\r\n",
    "    Dense(1, activation='sigmoid')\r\n",
    "])\r\n",
    "model.summary()"
   ]
  },
  {
   "cell_type": "markdown",
   "metadata": {},
   "source": [
    "## 2. 모델 컴파일 - 실행환경 설정"
   ]
  },
  {
   "cell_type": "code",
   "execution_count": 18,
   "metadata": {},
   "outputs": [],
   "source": [
    "model.compile(loss='binary_crossentropy',\r\n",
    "              optimizer='adam',\r\n",
    "              metrics=['accuracy'])"
   ]
  },
  {
   "cell_type": "markdown",
   "metadata": {},
   "source": [
    "## 3. 모델 학습"
   ]
  },
  {
   "cell_type": "code",
   "execution_count": 19,
   "metadata": {},
   "outputs": [
    {
     "name": "stdout",
     "output_type": "stream",
     "text": [
      "Epoch 1/30\n",
      "10/10 [==============================] - 0s 17ms/step - loss: 66.9762 - accuracy: 0.1744 - val_loss: 53.5900 - val_accuracy: 0.1690\n",
      "Epoch 2/30\n",
      "10/10 [==============================] - 0s 2ms/step - loss: 33.2220 - accuracy: 0.2776 - val_loss: 18.8536 - val_accuracy: 0.3239\n",
      "Epoch 3/30\n",
      "10/10 [==============================] - 0s 2ms/step - loss: 6.7032 - accuracy: 0.5765 - val_loss: 2.6176 - val_accuracy: 0.8592\n",
      "Epoch 4/30\n",
      "10/10 [==============================] - 0s 2ms/step - loss: 3.9062 - accuracy: 0.8434 - val_loss: 3.5908 - val_accuracy: 0.8732\n",
      "Epoch 5/30\n",
      "10/10 [==============================] - 0s 2ms/step - loss: 4.6143 - accuracy: 0.8434 - val_loss: 3.3584 - val_accuracy: 0.8732\n",
      "Epoch 6/30\n",
      "10/10 [==============================] - 0s 3ms/step - loss: 3.8853 - accuracy: 0.8434 - val_loss: 2.6340 - val_accuracy: 0.8732\n",
      "Epoch 7/30\n",
      "10/10 [==============================] - 0s 2ms/step - loss: 2.5949 - accuracy: 0.8363 - val_loss: 2.3025 - val_accuracy: 0.7324\n",
      "Epoch 8/30\n",
      "10/10 [==============================] - 0s 2ms/step - loss: 2.3076 - accuracy: 0.6868 - val_loss: 2.3981 - val_accuracy: 0.6901\n",
      "Epoch 9/30\n",
      "10/10 [==============================] - 0s 2ms/step - loss: 2.0372 - accuracy: 0.7936 - val_loss: 1.7853 - val_accuracy: 0.8310\n",
      "Epoch 10/30\n",
      "10/10 [==============================] - 0s 2ms/step - loss: 1.7144 - accuracy: 0.8043 - val_loss: 1.9887 - val_accuracy: 0.7183\n",
      "Epoch 11/30\n",
      "10/10 [==============================] - 0s 2ms/step - loss: 1.5213 - accuracy: 0.7473 - val_loss: 1.4552 - val_accuracy: 0.7606\n",
      "Epoch 12/30\n",
      "10/10 [==============================] - 0s 2ms/step - loss: 1.2671 - accuracy: 0.7936 - val_loss: 1.5174 - val_accuracy: 0.6761\n",
      "Epoch 13/30\n",
      "10/10 [==============================] - 0s 2ms/step - loss: 1.0959 - accuracy: 0.7544 - val_loss: 0.9714 - val_accuracy: 0.8028\n",
      "Epoch 14/30\n",
      "10/10 [==============================] - 0s 2ms/step - loss: 0.9937 - accuracy: 0.7972 - val_loss: 0.8962 - val_accuracy: 0.7042\n",
      "Epoch 15/30\n",
      "10/10 [==============================] - 0s 2ms/step - loss: 0.8616 - accuracy: 0.7260 - val_loss: 0.7707 - val_accuracy: 0.7183\n",
      "Epoch 16/30\n",
      "10/10 [==============================] - 0s 2ms/step - loss: 0.7772 - accuracy: 0.7331 - val_loss: 0.6959 - val_accuracy: 0.7465\n",
      "Epoch 17/30\n",
      "10/10 [==============================] - 0s 2ms/step - loss: 0.7440 - accuracy: 0.7438 - val_loss: 0.5675 - val_accuracy: 0.8310\n",
      "Epoch 18/30\n",
      "10/10 [==============================] - 0s 2ms/step - loss: 0.6063 - accuracy: 0.8007 - val_loss: 0.6887 - val_accuracy: 0.7042\n",
      "Epoch 19/30\n",
      "10/10 [==============================] - 0s 2ms/step - loss: 0.5144 - accuracy: 0.8078 - val_loss: 0.5146 - val_accuracy: 0.8310\n",
      "Epoch 20/30\n",
      "10/10 [==============================] - 0s 2ms/step - loss: 0.4741 - accuracy: 0.8256 - val_loss: 0.4411 - val_accuracy: 0.8310\n",
      "Epoch 21/30\n",
      "10/10 [==============================] - 0s 2ms/step - loss: 0.4728 - accuracy: 0.8363 - val_loss: 0.4405 - val_accuracy: 0.8310\n",
      "Epoch 22/30\n",
      "10/10 [==============================] - 0s 2ms/step - loss: 0.4503 - accuracy: 0.8363 - val_loss: 0.4852 - val_accuracy: 0.8028\n",
      "Epoch 23/30\n",
      "10/10 [==============================] - 0s 2ms/step - loss: 0.4517 - accuracy: 0.8327 - val_loss: 0.4342 - val_accuracy: 0.8310\n",
      "Epoch 24/30\n",
      "10/10 [==============================] - 0s 2ms/step - loss: 0.4687 - accuracy: 0.8256 - val_loss: 0.4344 - val_accuracy: 0.8592\n",
      "Epoch 25/30\n",
      "10/10 [==============================] - 0s 2ms/step - loss: 0.4784 - accuracy: 0.8363 - val_loss: 0.4493 - val_accuracy: 0.8310\n",
      "Epoch 26/30\n",
      "10/10 [==============================] - 0s 2ms/step - loss: 0.4516 - accuracy: 0.8434 - val_loss: 0.5580 - val_accuracy: 0.7887\n",
      "Epoch 27/30\n",
      "10/10 [==============================] - 0s 2ms/step - loss: 0.4670 - accuracy: 0.8256 - val_loss: 0.4429 - val_accuracy: 0.8451\n",
      "Epoch 28/30\n",
      "10/10 [==============================] - 0s 2ms/step - loss: 0.4536 - accuracy: 0.8327 - val_loss: 0.4323 - val_accuracy: 0.8592\n",
      "Epoch 29/30\n",
      "10/10 [==============================] - 0s 2ms/step - loss: 0.4895 - accuracy: 0.8256 - val_loss: 0.4303 - val_accuracy: 0.8451\n",
      "Epoch 30/30\n",
      "10/10 [==============================] - 0s 2ms/step - loss: 0.5071 - accuracy: 0.8399 - val_loss: 0.5793 - val_accuracy: 0.7887\n"
     ]
    }
   ],
   "source": [
    "history = model.fit(\r\n",
    "    X_train, y_train, \r\n",
    "    validation_split= 0.2, #테스트해보는 셋 지정\r\n",
    "    epochs= 30, #epochs가 너무 크면 과대적합의 위험이 있다.\r\n",
    "    batch_size=30 #한번에 처리할 수 있는 양을 지정\r\n",
    "    )"
   ]
  },
  {
   "cell_type": "markdown",
   "metadata": {},
   "source": [
    "## 4. 정확도 평가"
   ]
  },
  {
   "cell_type": "code",
   "execution_count": 20,
   "metadata": {},
   "outputs": [
    {
     "name": "stdout",
     "output_type": "stream",
     "text": [
      "4/4 [==============================] - 0s 749us/step - loss: 0.5252 - accuracy: 0.7966\n"
     ]
    },
    {
     "data": {
      "text/plain": [
       "[0.5251680016517639, 0.7966101765632629]"
      ]
     },
     "execution_count": 20,
     "metadata": {},
     "output_type": "execute_result"
    }
   ],
   "source": [
    "model.evaluate(X_test, y_test)"
   ]
  },
  {
   "cell_type": "markdown",
   "metadata": {},
   "source": [
    "## 5. 학습과정 시각화"
   ]
  },
  {
   "cell_type": "code",
   "execution_count": 21,
   "metadata": {},
   "outputs": [
    {
     "data": {
      "text/plain": [
       "dict"
      ]
     },
     "execution_count": 21,
     "metadata": {},
     "output_type": "execute_result"
    }
   ],
   "source": [
    "type(history.history)"
   ]
  },
  {
   "cell_type": "code",
   "execution_count": 22,
   "metadata": {},
   "outputs": [
    {
     "data": {
      "text/plain": [
       "[0.1743772178888321, 0.2775800824165344, 0.5765124559402466]"
      ]
     },
     "execution_count": 22,
     "metadata": {},
     "output_type": "execute_result"
    }
   ],
   "source": [
    "# 훈련데이터 정확도/ 손실값\r\n",
    "accuracy = history.history['accuracy']\r\n",
    "loss = history.history['loss']\r\n",
    "accuracy[: 3]\r\n"
   ]
  },
  {
   "cell_type": "code",
   "execution_count": 23,
   "metadata": {},
   "outputs": [
    {
     "data": {
      "text/plain": [
       "[53.59001541137695, 18.853553771972656, 2.617617130279541]"
      ]
     },
     "execution_count": 23,
     "metadata": {},
     "output_type": "execute_result"
    }
   ],
   "source": [
    "# 검증데이터의 정확도/ 손실값\r\n",
    "val_accuracy = history.history['val_accuracy']\r\n",
    "val_loss = history.history['val_loss']\r\n",
    "val_loss[: 3]"
   ]
  },
  {
   "cell_type": "code",
   "execution_count": 24,
   "metadata": {},
   "outputs": [],
   "source": [
    "import matplotlib.pyplot as plt\r\n",
    "%matplotlib inline"
   ]
  },
  {
   "cell_type": "code",
   "execution_count": 29,
   "metadata": {},
   "outputs": [
    {
     "data": {
      "text/plain": [
       "<function matplotlib.pyplot.show(close=None, block=None)>"
      ]
     },
     "execution_count": 29,
     "metadata": {},
     "output_type": "execute_result"
    },
    {
     "data": {
      "image/png": "[encoded data removed]",
      "text/plain": [
       "<Figure size 432x288 with 1 Axes>"
      ]
     },
     "metadata": {
      "needs_background": "light"
     },
     "output_type": "display_data"
    }
   ],
   "source": [
    "x_len = np.arange(len(accuracy))\r\n",
    "plt.figure(figsize =(6,4))\r\n",
    "plt.plot(x_len, accuracy, 'bo-', markersize =5, label = 'accuracy')\r\n",
    "# plt.plot(x_len(x_len, val_loss, 'ro-'), markersize =5, label = 'val_loss')\r\n",
    "plt.legend()\r\n",
    "plt.show\r\n",
    "# 스케일 달라서 합쳐서 쓸 수 없음 "
   ]
  },
  {
   "cell_type": "code",
   "execution_count": 32,
   "metadata": {},
   "outputs": [
    {
     "data": {
      "text/plain": [
       "<function matplotlib.pyplot.show(close=None, block=None)>"
      ]
     },
     "execution_count": 32,
     "metadata": {},
     "output_type": "execute_result"
    },
    {
     "data": {
      "image/png": "[encoded data removed]",
      "text/plain": [
       "<Figure size 432x288 with 1 Axes>"
      ]
     },
     "metadata": {
      "needs_background": "light"
     },
     "output_type": "display_data"
    }
   ],
   "source": [
    "plt.plot(x_len, val_loss, 'ro-', markersize =5, label = 'val_loss')\r\n",
    "plt.legend()\r\n",
    "plt.show"
   ]
  }
 ],
 "metadata": {
  "interpreter": {
   "hash": "8c1eae21719a0790335dcb83aad72b63b602cfe5cdb2bda0f60bc11d4f154e4b"
  },
  "kernelspec": {
   "display_name": "Python 3.8.5 64-bit ('base': conda)",
   "name": "python3"
  },
  "language_info": {
   "codemirror_mode": {
    "name": "ipython",
    "version": 3
   },
   "file_extension": ".py",
   "mimetype": "text/x-python",
   "name": "python",
   "nbconvert_exporter": "python",
   "pygments_lexer": "ipython3",
   "version": "3.8.5"
  },
  "orig_nbformat": 4
 },
 "nbformat": 4,
 "nbformat_minor": 2
}